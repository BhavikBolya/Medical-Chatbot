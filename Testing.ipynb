{
 "metadata": {
  "language_info": {
   "codemirror_mode": {
    "name": "ipython",
    "version": 3
   },
   "file_extension": ".py",
   "mimetype": "text/x-python",
   "name": "python",
   "nbconvert_exporter": "python",
   "pygments_lexer": "ipython3",
   "version": "3.9.0-final"
  },
  "orig_nbformat": 2,
  "kernelspec": {
   "name": "python390jvsc74a57bd011386cce151cb2e29b0d5c11d1da23fa0a22d321fb9c26ca69638e15a4e7a7b3",
   "display_name": "Python 3.9.0 64-bit"
  },
  "metadata": {
   "interpreter": {
    "hash": "11386cce151cb2e29b0d5c11d1da23fa0a22d321fb9c26ca69638e15a4e7a7b3"
   }
  }
 },
 "nbformat": 4,
 "nbformat_minor": 2,
 "cells": [
  {
   "cell_type": "code",
   "execution_count": 3,
   "metadata": {},
   "outputs": [
    {
     "output_type": "execute_result",
     "data": {
      "text/plain": [
       "'2.5.0-rc0'"
      ]
     },
     "metadata": {},
     "execution_count": 3
    }
   ],
   "source": [
    "import tensorflow as tf\n",
    "tf.__version__\n"
   ]
  },
  {
   "cell_type": "code",
   "execution_count": 3,
   "metadata": {},
   "outputs": [],
   "source": [
    "import pandas as pd"
   ]
  },
  {
   "cell_type": "code",
   "execution_count": 9,
   "metadata": {},
   "outputs": [],
   "source": [
    "# df = pd.read_csv(\"Data/Testing.csv\")\n",
    "# abc = df.columns\n",
    "\n",
    "# filename = \"Symptoms.csv\"\n",
    "# f = open(filename, \"w\")\n",
    "# headers = \"symptom\\n\"\n",
    "# f.write(headers)\n",
    "# for i in abc:\n",
    "#     if '_' in i:\n",
    "#         i = str(i)\n",
    "#         i = i.replace('_', ' ')\n",
    "#     f.write(i + \"\\n\")\n",
    "# f.close()"
   ]
  },
  {
   "cell_type": "code",
   "execution_count": 31,
   "metadata": {},
   "outputs": [
    {
     "output_type": "execute_result",
     "data": {
      "text/plain": [
       "                                                illness  \\\n",
       "0         Cholecystitis inflammation of the gallbladder   \n",
       "1                Choledocholithiasis stone in bile duct   \n",
       "2                             Cholelithiasis gallstones   \n",
       "3                                          Constipation   \n",
       "4                           Gastric ulcer stomach ulcer   \n",
       "...                                                 ...   \n",
       "1151                                      Skin swelling   \n",
       "1152                                  Eye trauma injury   \n",
       "1153  Endometrial cancer cancer of the lining of the...   \n",
       "1154                                 Hair loss alopecia   \n",
       "1155  Male pattern hair loss hereditary-patterned ba...   \n",
       "\n",
       "                                         illness_vector  \n",
       "0     [1, 1, 0, 0, 0, 0, 1, 0, 0, 0, 0, 0, 0, 0, 0, ...  \n",
       "1     [1, 0, 0, 0, 0, 0, 0, 0, 0, 0, 0, 0, 0, 0, 0, ...  \n",
       "2     [1, 1, 0, 0, 0, 0, 1, 0, 0, 0, 0, 0, 1, 0, 0, ...  \n",
       "3     [1, 1, 0, 0, 0, 0, 0, 0, 0, 0, 0, 0, 0, 0, 0, ...  \n",
       "4     [1, 0, 0, 1, 0, 0, 0, 0, 0, 0, 0, 0, 0, 0, 0, ...  \n",
       "...                                                 ...  \n",
       "1151  [0, 0, 0, 0, 0, 0, 0, 0, 0, 0, 0, 0, 0, 0, 0, ...  \n",
       "1152  [0, 0, 0, 0, 0, 0, 0, 0, 0, 0, 0, 0, 0, 0, 0, ...  \n",
       "1153  [0, 0, 0, 0, 0, 0, 0, 0, 0, 0, 0, 0, 0, 0, 0, ...  \n",
       "1154  [0, 0, 0, 0, 0, 0, 0, 0, 0, 0, 0, 0, 0, 0, 0, ...  \n",
       "1155  [0, 0, 0, 0, 0, 0, 0, 0, 0, 0, 0, 0, 0, 0, 0, ...  \n",
       "\n",
       "[1156 rows x 2 columns]"
      ],
      "text/html": "<div>\n<style scoped>\n    .dataframe tbody tr th:only-of-type {\n        vertical-align: middle;\n    }\n\n    .dataframe tbody tr th {\n        vertical-align: top;\n    }\n\n    .dataframe thead th {\n        text-align: right;\n    }\n</style>\n<table border=\"1\" class=\"dataframe\">\n  <thead>\n    <tr style=\"text-align: right;\">\n      <th></th>\n      <th>illness</th>\n      <th>illness_vector</th>\n    </tr>\n  </thead>\n  <tbody>\n    <tr>\n      <th>0</th>\n      <td>Cholecystitis inflammation of the gallbladder</td>\n      <td>[1, 1, 0, 0, 0, 0, 1, 0, 0, 0, 0, 0, 0, 0, 0, ...</td>\n    </tr>\n    <tr>\n      <th>1</th>\n      <td>Choledocholithiasis stone in bile duct</td>\n      <td>[1, 0, 0, 0, 0, 0, 0, 0, 0, 0, 0, 0, 0, 0, 0, ...</td>\n    </tr>\n    <tr>\n      <th>2</th>\n      <td>Cholelithiasis gallstones</td>\n      <td>[1, 1, 0, 0, 0, 0, 1, 0, 0, 0, 0, 0, 1, 0, 0, ...</td>\n    </tr>\n    <tr>\n      <th>3</th>\n      <td>Constipation</td>\n      <td>[1, 1, 0, 0, 0, 0, 0, 0, 0, 0, 0, 0, 0, 0, 0, ...</td>\n    </tr>\n    <tr>\n      <th>4</th>\n      <td>Gastric ulcer stomach ulcer</td>\n      <td>[1, 0, 0, 1, 0, 0, 0, 0, 0, 0, 0, 0, 0, 0, 0, ...</td>\n    </tr>\n    <tr>\n      <th>...</th>\n      <td>...</td>\n      <td>...</td>\n    </tr>\n    <tr>\n      <th>1151</th>\n      <td>Skin swelling</td>\n      <td>[0, 0, 0, 0, 0, 0, 0, 0, 0, 0, 0, 0, 0, 0, 0, ...</td>\n    </tr>\n    <tr>\n      <th>1152</th>\n      <td>Eye trauma injury</td>\n      <td>[0, 0, 0, 0, 0, 0, 0, 0, 0, 0, 0, 0, 0, 0, 0, ...</td>\n    </tr>\n    <tr>\n      <th>1153</th>\n      <td>Endometrial cancer cancer of the lining of the...</td>\n      <td>[0, 0, 0, 0, 0, 0, 0, 0, 0, 0, 0, 0, 0, 0, 0, ...</td>\n    </tr>\n    <tr>\n      <th>1154</th>\n      <td>Hair loss alopecia</td>\n      <td>[0, 0, 0, 0, 0, 0, 0, 0, 0, 0, 0, 0, 0, 0, 0, ...</td>\n    </tr>\n    <tr>\n      <th>1155</th>\n      <td>Male pattern hair loss hereditary-patterned ba...</td>\n      <td>[0, 0, 0, 0, 0, 0, 0, 0, 0, 0, 0, 0, 0, 0, 0, ...</td>\n    </tr>\n  </tbody>\n</table>\n<p>1156 rows × 2 columns</p>\n</div>"
     },
     "metadata": {},
     "execution_count": 31
    }
   ],
   "source": [
    "# df2 = pd.read_pickle(\"diagnosis_data.pkl\")\n",
    "# df2"
   ]
  },
  {
   "cell_type": "code",
   "execution_count": 46,
   "metadata": {},
   "outputs": [
    {
     "output_type": "execute_result",
     "data": {
      "text/plain": [
       "0                            Fungal infection\n",
       "1                                     Allergy\n",
       "2                                        GERD\n",
       "3                         Chronic cholestasis\n",
       "4                               Drug Reaction\n",
       "5                         Peptic ulcer diseae\n",
       "6                                        AIDS\n",
       "7                                   Diabetes \n",
       "8                             Gastroenteritis\n",
       "9                            Bronchial Asthma\n",
       "10                              Hypertension \n",
       "11                                   Migraine\n",
       "12                       Cervical spondylosis\n",
       "13               Paralysis (brain hemorrhage)\n",
       "14                                   Jaundice\n",
       "15                                    Malaria\n",
       "16                                Chicken pox\n",
       "17                                     Dengue\n",
       "18                                    Typhoid\n",
       "19                                hepatitis A\n",
       "20                                Hepatitis B\n",
       "21                                Hepatitis C\n",
       "22                                Hepatitis D\n",
       "23                                Hepatitis E\n",
       "24                        Alcoholic hepatitis\n",
       "25                               Tuberculosis\n",
       "26                                Common Cold\n",
       "27                                  Pneumonia\n",
       "28               Dimorphic hemmorhoids(piles)\n",
       "29                               Heart attack\n",
       "30                             Varicose veins\n",
       "31                             Hypothyroidism\n",
       "32                            Hyperthyroidism\n",
       "33                               Hypoglycemia\n",
       "34                            Osteoarthristis\n",
       "35                                  Arthritis\n",
       "36    (vertigo) Paroymsal  Positional Vertigo\n",
       "37                                       Acne\n",
       "38                    Urinary tract infection\n",
       "39                                  Psoriasis\n",
       "40                                   Impetigo\n",
       "41                           Fungal infection\n",
       "Name: prognosis, dtype: object"
      ]
     },
     "metadata": {},
     "execution_count": 46
    }
   ],
   "source": [
    "# df = pd.read_csv(\"Data/Testing.csv\")\n",
    "# df.prognosis"
   ]
  },
  {
   "cell_type": "code",
   "execution_count": 42,
   "metadata": {
    "tags": []
   },
   "outputs": [],
   "source": [
    "# filename = \"Illness.csv\"\n",
    "# f = open(filename, \"w\")\n",
    "# headers = \"illness,illness_vector\\n\"\n",
    "# f.write(headers)\n",
    "\n",
    "# for i in df.itertuples():\n",
    "#     tup = []\n",
    "#     for j in range(1,133):\n",
    "#         tup.append(i[j])\n",
    "#     prog = i[133]\n",
    "#     f.write(prog + \",\" + str(tup) + \"\\n\")\n",
    "\n",
    "# f.close()"
   ]
  },
  {
   "cell_type": "code",
   "execution_count": 9,
   "metadata": {},
   "outputs": [],
   "source": [
    "df = pd.read_csv(\"Data/Testing.csv\")\n",
    "\n",
    "prog_list = []\n",
    "tup_list = []\n",
    "for i in df.itertuples():\n",
    "    tup = []\n",
    "    for j in range(1,133):\n",
    "        tup.append(i[j])\n",
    "    prog = i[133]\n",
    "    prog_list.append(prog)\n",
    "    tup_list.append(tup)\n",
    "\n",
    "dfx = pd.DataFrame()\n",
    "dfx['illness'] = prog_list\n",
    "dfx['illness_vector'] = tup_list\n",
    "\n",
    "dfx.to_pickle(\"Illness.pkl\")"
   ]
  },
  {
   "cell_type": "code",
   "execution_count": 13,
   "metadata": {},
   "outputs": [],
   "source": [
    "df3 = pd.read_csv(\"Symptoms.csv\")\n",
    "df3.to_pickle(\"Symptoms_new.pkl\")"
   ]
  },
  {
   "cell_type": "code",
   "execution_count": 6,
   "metadata": {},
   "outputs": [
    {
     "output_type": "execute_result",
     "data": {
      "text/plain": [
       "     Unnamed: 0               symptom  \\\n",
       "0             0               itching   \n",
       "1             1             skin rash   \n",
       "2             2  nodal skin eruptions   \n",
       "3             3   continuous sneezing   \n",
       "4             4             shivering   \n",
       "..          ...                   ...   \n",
       "127         127  small dents in nails   \n",
       "128         128    inflammatory nails   \n",
       "129         129               blister   \n",
       "130         130  red sore around nose   \n",
       "131         131     yellow crust ooze   \n",
       "\n",
       "                                         symtom_vector  \n",
       "0    [0.005095299798995256, -0.41701000928878784, -...  \n",
       "1    [-0.2623099982738495, -0.24128000438213348, -0...  \n",
       "2    [-0.024669334292411804, -0.5369966626167297, -...  \n",
       "3    [-0.3104349970817566, 0.200250506401062, -0.39...  \n",
       "4    [-0.36730000376701355, -0.16412000358104706, -...  \n",
       "..                                                 ...  \n",
       "127  [-0.11279074847698212, 0.08179624378681183, -0...  \n",
       "128  [-0.47173500061035156, 0.021334998309612274, -...  \n",
       "129  [-0.3625999987125397, 0.11849000304937363, -0....  \n",
       "130  [-0.07523999363183975, -0.18626099824905396, -...  \n",
       "131  [-0.03235389664769173, -0.13469332456588745, 0...  \n",
       "\n",
       "[132 rows x 3 columns]"
      ],
      "text/html": "<div>\n<style scoped>\n    .dataframe tbody tr th:only-of-type {\n        vertical-align: middle;\n    }\n\n    .dataframe tbody tr th {\n        vertical-align: top;\n    }\n\n    .dataframe thead th {\n        text-align: right;\n    }\n</style>\n<table border=\"1\" class=\"dataframe\">\n  <thead>\n    <tr style=\"text-align: right;\">\n      <th></th>\n      <th>Unnamed: 0</th>\n      <th>symptom</th>\n      <th>symtom_vector</th>\n    </tr>\n  </thead>\n  <tbody>\n    <tr>\n      <th>0</th>\n      <td>0</td>\n      <td>itching</td>\n      <td>[0.005095299798995256, -0.41701000928878784, -...</td>\n    </tr>\n    <tr>\n      <th>1</th>\n      <td>1</td>\n      <td>skin rash</td>\n      <td>[-0.2623099982738495, -0.24128000438213348, -0...</td>\n    </tr>\n    <tr>\n      <th>2</th>\n      <td>2</td>\n      <td>nodal skin eruptions</td>\n      <td>[-0.024669334292411804, -0.5369966626167297, -...</td>\n    </tr>\n    <tr>\n      <th>3</th>\n      <td>3</td>\n      <td>continuous sneezing</td>\n      <td>[-0.3104349970817566, 0.200250506401062, -0.39...</td>\n    </tr>\n    <tr>\n      <th>4</th>\n      <td>4</td>\n      <td>shivering</td>\n      <td>[-0.36730000376701355, -0.16412000358104706, -...</td>\n    </tr>\n    <tr>\n      <th>...</th>\n      <td>...</td>\n      <td>...</td>\n      <td>...</td>\n    </tr>\n    <tr>\n      <th>127</th>\n      <td>127</td>\n      <td>small dents in nails</td>\n      <td>[-0.11279074847698212, 0.08179624378681183, -0...</td>\n    </tr>\n    <tr>\n      <th>128</th>\n      <td>128</td>\n      <td>inflammatory nails</td>\n      <td>[-0.47173500061035156, 0.021334998309612274, -...</td>\n    </tr>\n    <tr>\n      <th>129</th>\n      <td>129</td>\n      <td>blister</td>\n      <td>[-0.3625999987125397, 0.11849000304937363, -0....</td>\n    </tr>\n    <tr>\n      <th>130</th>\n      <td>130</td>\n      <td>red sore around nose</td>\n      <td>[-0.07523999363183975, -0.18626099824905396, -...</td>\n    </tr>\n    <tr>\n      <th>131</th>\n      <td>131</td>\n      <td>yellow crust ooze</td>\n      <td>[-0.03235389664769173, -0.13469332456588745, 0...</td>\n    </tr>\n  </tbody>\n</table>\n<p>132 rows × 3 columns</p>\n</div>"
     },
     "metadata": {},
     "execution_count": 6
    }
   ],
   "source": [
    "symptoms_df = pd.read_pickle(\"symptoms.pkl\")\n",
    "symptoms_df"
   ]
  },
  {
   "cell_type": "code",
   "execution_count": 4,
   "metadata": {},
   "outputs": [
    {
     "output_type": "execute_result",
     "data": {
      "text/plain": [
       "'2.5.0-rc0'"
      ]
     },
     "metadata": {},
     "execution_count": 4
    }
   ],
   "source": [
    "import tensorflow as tf\n",
    "tf.__version__\n"
   ]
  },
  {
   "cell_type": "code",
   "execution_count": null,
   "metadata": {},
   "outputs": [],
   "source": []
  }
 ]
}