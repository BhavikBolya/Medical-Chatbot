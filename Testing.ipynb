{
 "metadata": {
  "language_info": {
   "codemirror_mode": {
    "name": "ipython",
    "version": 3
   },
   "file_extension": ".py",
   "mimetype": "text/x-python",
   "name": "python",
   "nbconvert_exporter": "python",
   "pygments_lexer": "ipython3",
   "version": "3.8.0"
  },
  "orig_nbformat": 2,
  "kernelspec": {
   "name": "python380jvsc74a57bd0b8272897a8284498a4309cf705c665bcb40ab606922e8429c67ff5c0702cf904",
   "display_name": "Python 3.8.0 32-bit"
  },
  "metadata": {
   "interpreter": {
    "hash": "b8272897a8284498a4309cf705c665bcb40ab606922e8429c67ff5c0702cf904"
   }
  }
 },
 "nbformat": 4,
 "nbformat_minor": 2,
 "cells": [
  {
   "cell_type": "code",
   "execution_count": 3,
   "metadata": {},
   "outputs": [
    {
     "output_type": "execute_result",
     "data": {
      "text/plain": [
       "'2.5.0-rc0'"
      ]
     },
     "metadata": {},
     "execution_count": 3
    }
   ],
   "source": [
    "import tensorflow as tf\n",
    "tf.__version__\n"
   ]
  },
  {
   "cell_type": "code",
   "execution_count": 1,
   "metadata": {},
   "outputs": [],
   "source": [
    "import pandas as pd"
   ]
  },
  {
   "cell_type": "code",
   "execution_count": 9,
   "metadata": {},
   "outputs": [],
   "source": [
    "# df = pd.read_csv(\"Data/Testing.csv\")\n",
    "# abc = df.columns\n",
    "\n",
    "# filename = \"Symptoms.csv\"\n",
    "# f = open(filename, \"w\")\n",
    "# headers = \"symptom\\n\"\n",
    "# f.write(headers)\n",
    "# for i in abc:\n",
    "#     if '_' in i:\n",
    "#         i = str(i)\n",
    "#         i = i.replace('_', ' ')\n",
    "#     f.write(i + \"\\n\")\n",
    "# f.close()"
   ]
  },
  {
   "cell_type": "code",
   "execution_count": 31,
   "metadata": {},
   "outputs": [
    {
     "output_type": "execute_result",
     "data": {
      "text/plain": [
       "                                                illness  \\\n",
       "0         Cholecystitis inflammation of the gallbladder   \n",
       "1                Choledocholithiasis stone in bile duct   \n",
       "2                             Cholelithiasis gallstones   \n",
       "3                                          Constipation   \n",
       "4                           Gastric ulcer stomach ulcer   \n",
       "...                                                 ...   \n",
       "1151                                      Skin swelling   \n",
       "1152                                  Eye trauma injury   \n",
       "1153  Endometrial cancer cancer of the lining of the...   \n",
       "1154                                 Hair loss alopecia   \n",
       "1155  Male pattern hair loss hereditary-patterned ba...   \n",
       "\n",
       "                                         illness_vector  \n",
       "0     [1, 1, 0, 0, 0, 0, 1, 0, 0, 0, 0, 0, 0, 0, 0, ...  \n",
       "1     [1, 0, 0, 0, 0, 0, 0, 0, 0, 0, 0, 0, 0, 0, 0, ...  \n",
       "2     [1, 1, 0, 0, 0, 0, 1, 0, 0, 0, 0, 0, 1, 0, 0, ...  \n",
       "3     [1, 1, 0, 0, 0, 0, 0, 0, 0, 0, 0, 0, 0, 0, 0, ...  \n",
       "4     [1, 0, 0, 1, 0, 0, 0, 0, 0, 0, 0, 0, 0, 0, 0, ...  \n",
       "...                                                 ...  \n",
       "1151  [0, 0, 0, 0, 0, 0, 0, 0, 0, 0, 0, 0, 0, 0, 0, ...  \n",
       "1152  [0, 0, 0, 0, 0, 0, 0, 0, 0, 0, 0, 0, 0, 0, 0, ...  \n",
       "1153  [0, 0, 0, 0, 0, 0, 0, 0, 0, 0, 0, 0, 0, 0, 0, ...  \n",
       "1154  [0, 0, 0, 0, 0, 0, 0, 0, 0, 0, 0, 0, 0, 0, 0, ...  \n",
       "1155  [0, 0, 0, 0, 0, 0, 0, 0, 0, 0, 0, 0, 0, 0, 0, ...  \n",
       "\n",
       "[1156 rows x 2 columns]"
      ],
      "text/html": "<div>\n<style scoped>\n    .dataframe tbody tr th:only-of-type {\n        vertical-align: middle;\n    }\n\n    .dataframe tbody tr th {\n        vertical-align: top;\n    }\n\n    .dataframe thead th {\n        text-align: right;\n    }\n</style>\n<table border=\"1\" class=\"dataframe\">\n  <thead>\n    <tr style=\"text-align: right;\">\n      <th></th>\n      <th>illness</th>\n      <th>illness_vector</th>\n    </tr>\n  </thead>\n  <tbody>\n    <tr>\n      <th>0</th>\n      <td>Cholecystitis inflammation of the gallbladder</td>\n      <td>[1, 1, 0, 0, 0, 0, 1, 0, 0, 0, 0, 0, 0, 0, 0, ...</td>\n    </tr>\n    <tr>\n      <th>1</th>\n      <td>Choledocholithiasis stone in bile duct</td>\n      <td>[1, 0, 0, 0, 0, 0, 0, 0, 0, 0, 0, 0, 0, 0, 0, ...</td>\n    </tr>\n    <tr>\n      <th>2</th>\n      <td>Cholelithiasis gallstones</td>\n      <td>[1, 1, 0, 0, 0, 0, 1, 0, 0, 0, 0, 0, 1, 0, 0, ...</td>\n    </tr>\n    <tr>\n      <th>3</th>\n      <td>Constipation</td>\n      <td>[1, 1, 0, 0, 0, 0, 0, 0, 0, 0, 0, 0, 0, 0, 0, ...</td>\n    </tr>\n    <tr>\n      <th>4</th>\n      <td>Gastric ulcer stomach ulcer</td>\n      <td>[1, 0, 0, 1, 0, 0, 0, 0, 0, 0, 0, 0, 0, 0, 0, ...</td>\n    </tr>\n    <tr>\n      <th>...</th>\n      <td>...</td>\n      <td>...</td>\n    </tr>\n    <tr>\n      <th>1151</th>\n      <td>Skin swelling</td>\n      <td>[0, 0, 0, 0, 0, 0, 0, 0, 0, 0, 0, 0, 0, 0, 0, ...</td>\n    </tr>\n    <tr>\n      <th>1152</th>\n      <td>Eye trauma injury</td>\n      <td>[0, 0, 0, 0, 0, 0, 0, 0, 0, 0, 0, 0, 0, 0, 0, ...</td>\n    </tr>\n    <tr>\n      <th>1153</th>\n      <td>Endometrial cancer cancer of the lining of the...</td>\n      <td>[0, 0, 0, 0, 0, 0, 0, 0, 0, 0, 0, 0, 0, 0, 0, ...</td>\n    </tr>\n    <tr>\n      <th>1154</th>\n      <td>Hair loss alopecia</td>\n      <td>[0, 0, 0, 0, 0, 0, 0, 0, 0, 0, 0, 0, 0, 0, 0, ...</td>\n    </tr>\n    <tr>\n      <th>1155</th>\n      <td>Male pattern hair loss hereditary-patterned ba...</td>\n      <td>[0, 0, 0, 0, 0, 0, 0, 0, 0, 0, 0, 0, 0, 0, 0, ...</td>\n    </tr>\n  </tbody>\n</table>\n<p>1156 rows × 2 columns</p>\n</div>"
     },
     "metadata": {},
     "execution_count": 31
    }
   ],
   "source": [
    "# df2 = pd.read_pickle(\"diagnosis_data.pkl\")\n",
    "# df2"
   ]
  },
  {
   "cell_type": "code",
   "execution_count": 46,
   "metadata": {},
   "outputs": [
    {
     "output_type": "execute_result",
     "data": {
      "text/plain": [
       "0                            Fungal infection\n",
       "1                                     Allergy\n",
       "2                                        GERD\n",
       "3                         Chronic cholestasis\n",
       "4                               Drug Reaction\n",
       "5                         Peptic ulcer diseae\n",
       "6                                        AIDS\n",
       "7                                   Diabetes \n",
       "8                             Gastroenteritis\n",
       "9                            Bronchial Asthma\n",
       "10                              Hypertension \n",
       "11                                   Migraine\n",
       "12                       Cervical spondylosis\n",
       "13               Paralysis (brain hemorrhage)\n",
       "14                                   Jaundice\n",
       "15                                    Malaria\n",
       "16                                Chicken pox\n",
       "17                                     Dengue\n",
       "18                                    Typhoid\n",
       "19                                hepatitis A\n",
       "20                                Hepatitis B\n",
       "21                                Hepatitis C\n",
       "22                                Hepatitis D\n",
       "23                                Hepatitis E\n",
       "24                        Alcoholic hepatitis\n",
       "25                               Tuberculosis\n",
       "26                                Common Cold\n",
       "27                                  Pneumonia\n",
       "28               Dimorphic hemmorhoids(piles)\n",
       "29                               Heart attack\n",
       "30                             Varicose veins\n",
       "31                             Hypothyroidism\n",
       "32                            Hyperthyroidism\n",
       "33                               Hypoglycemia\n",
       "34                            Osteoarthristis\n",
       "35                                  Arthritis\n",
       "36    (vertigo) Paroymsal  Positional Vertigo\n",
       "37                                       Acne\n",
       "38                    Urinary tract infection\n",
       "39                                  Psoriasis\n",
       "40                                   Impetigo\n",
       "41                           Fungal infection\n",
       "Name: prognosis, dtype: object"
      ]
     },
     "metadata": {},
     "execution_count": 46
    }
   ],
   "source": [
    "# df = pd.read_csv(\"Data/Testing.csv\")\n",
    "# df.prognosis"
   ]
  },
  {
   "cell_type": "code",
   "execution_count": 42,
   "metadata": {
    "tags": []
   },
   "outputs": [],
   "source": [
    "# filename = \"Illness.csv\"\n",
    "# f = open(filename, \"w\")\n",
    "# headers = \"illness,illness_vector\\n\"\n",
    "# f.write(headers)\n",
    "\n",
    "# for i in df.itertuples():\n",
    "#     tup = []\n",
    "#     for j in range(1,133):\n",
    "#         tup.append(i[j])\n",
    "#     prog = i[133]\n",
    "#     f.write(prog + \",\" + str(tup) + \"\\n\")\n",
    "\n",
    "# f.close()"
   ]
  },
  {
   "cell_type": "code",
   "execution_count": 19,
   "metadata": {},
   "outputs": [
    {
     "output_type": "error",
     "ename": "NameError",
     "evalue": "name 'null' is not defined",
     "traceback": [
      "\u001b[1;31m---------------------------------------------------------------------------\u001b[0m",
      "\u001b[1;31mNameError\u001b[0m                                 Traceback (most recent call last)",
      "\u001b[1;32m<ipython-input-19-606b9642a68d>\u001b[0m in \u001b[0;36m<module>\u001b[1;34m\u001b[0m\n\u001b[0;32m     16\u001b[0m \u001b[1;33m\u001b[0m\u001b[0m\n\u001b[0;32m     17\u001b[0m \u001b[0mdfx\u001b[0m \u001b[1;33m=\u001b[0m \u001b[0mpd\u001b[0m\u001b[1;33m.\u001b[0m\u001b[0mDataFrame\u001b[0m\u001b[1;33m(\u001b[0m\u001b[1;33m)\u001b[0m\u001b[1;33m\u001b[0m\u001b[1;33m\u001b[0m\u001b[0m\n\u001b[1;32m---> 18\u001b[1;33m \u001b[0mdfx\u001b[0m\u001b[1;33m[\u001b[0m\u001b[0mnull\u001b[0m\u001b[1;33m]\u001b[0m \u001b[1;33m=\u001b[0m \u001b[0mid_list\u001b[0m\u001b[1;33m\u001b[0m\u001b[1;33m\u001b[0m\u001b[0m\n\u001b[0m\u001b[0;32m     19\u001b[0m \u001b[0mdfx\u001b[0m\u001b[1;33m[\u001b[0m\u001b[1;34m'illness'\u001b[0m\u001b[1;33m]\u001b[0m \u001b[1;33m=\u001b[0m \u001b[0mprog_list\u001b[0m\u001b[1;33m\u001b[0m\u001b[1;33m\u001b[0m\u001b[0m\n\u001b[0;32m     20\u001b[0m \u001b[0mdfx\u001b[0m\u001b[1;33m[\u001b[0m\u001b[1;34m'illness_vector'\u001b[0m\u001b[1;33m]\u001b[0m \u001b[1;33m=\u001b[0m \u001b[0mtup_list\u001b[0m\u001b[1;33m\u001b[0m\u001b[1;33m\u001b[0m\u001b[0m\n",
      "\u001b[1;31mNameError\u001b[0m: name 'null' is not defined"
     ]
    }
   ],
   "source": [
    "df = pd.read_csv(\"Data/Testing.csv\")\n",
    "\n",
    "prog_list = []\n",
    "tup_list = []\n",
    "id_list = []\n",
    "k = 0\n",
    "for i in df.itertuples():\n",
    "    tup = []\n",
    "    for j in range(1,133):\n",
    "        tup.append(i[j])\n",
    "    prog = i[133]\n",
    "    prog_list.append(prog)\n",
    "    tup_list.append(tup)\n",
    "    id_list.append(k)\n",
    "    k=k+1\n",
    "\n",
    "dfx = pd.DataFrame()\n",
    "dfx[None] = id_list\n",
    "dfx['illness'] = prog_list\n",
    "dfx['illness_vector'] = tup_list\n",
    "\n",
    "dfx.to_pickle(\"Illness.pkl\")\n",
    "\n"
   ]
  },
  {
   "cell_type": "code",
   "execution_count": 17,
   "metadata": {},
   "outputs": [
    {
     "output_type": "execute_result",
     "data": {
      "text/plain": [
       "                                        illness  \\\n",
       "0    0                         Fungal infection   \n",
       "1    1                                  Allergy   \n",
       "2    2                                     GERD   \n",
       "3    3                      Chronic cholestasis   \n",
       "4    4                            Drug Reaction   \n",
       "5    5                      Peptic ulcer diseae   \n",
       "6    6                                     AIDS   \n",
       "7    7                                Diabetes    \n",
       "8    8                          Gastroenteritis   \n",
       "9    9                         Bronchial Asthma   \n",
       "10  10                            Hypertension    \n",
       "11  11                                 Migraine   \n",
       "12  12                     Cervical spondylosis   \n",
       "13  13             Paralysis (brain hemorrhage)   \n",
       "14  14                                 Jaundice   \n",
       "15  15                                  Malaria   \n",
       "16  16                              Chicken pox   \n",
       "17  17                                   Dengue   \n",
       "18  18                                  Typhoid   \n",
       "19  19                              hepatitis A   \n",
       "20  20                              Hepatitis B   \n",
       "21  21                              Hepatitis C   \n",
       "22  22                              Hepatitis D   \n",
       "23  23                              Hepatitis E   \n",
       "24  24                      Alcoholic hepatitis   \n",
       "25  25                             Tuberculosis   \n",
       "26  26                              Common Cold   \n",
       "27  27                                Pneumonia   \n",
       "28  28             Dimorphic hemmorhoids(piles)   \n",
       "29  29                             Heart attack   \n",
       "30  30                           Varicose veins   \n",
       "31  31                           Hypothyroidism   \n",
       "32  32                          Hyperthyroidism   \n",
       "33  33                             Hypoglycemia   \n",
       "34  34                          Osteoarthristis   \n",
       "35  35                                Arthritis   \n",
       "36  36  (vertigo) Paroymsal  Positional Vertigo   \n",
       "37  37                                     Acne   \n",
       "38  38                  Urinary tract infection   \n",
       "39  39                                Psoriasis   \n",
       "40  40                                 Impetigo   \n",
       "41  41                         Fungal infection   \n",
       "\n",
       "                                       illness_vector  \n",
       "0   [1, 1, 1, 0, 0, 0, 0, 0, 0, 0, 0, 0, 0, 0, 0, ...  \n",
       "1   [0, 0, 0, 1, 1, 1, 0, 0, 0, 0, 0, 0, 0, 0, 0, ...  \n",
       "2   [0, 0, 0, 0, 0, 0, 0, 1, 1, 1, 0, 1, 0, 0, 0, ...  \n",
       "3   [1, 0, 0, 0, 0, 0, 0, 0, 0, 0, 0, 1, 0, 0, 0, ...  \n",
       "4   [1, 1, 0, 0, 0, 0, 0, 1, 0, 0, 0, 0, 1, 1, 0, ...  \n",
       "5   [0, 0, 0, 0, 0, 0, 0, 0, 0, 0, 0, 1, 0, 0, 0, ...  \n",
       "6   [0, 0, 0, 0, 0, 0, 0, 0, 0, 0, 1, 0, 0, 0, 0, ...  \n",
       "7   [0, 0, 0, 0, 0, 0, 0, 0, 0, 0, 0, 0, 0, 0, 1, ...  \n",
       "8   [0, 0, 0, 0, 0, 0, 0, 0, 0, 0, 0, 1, 0, 0, 0, ...  \n",
       "9   [0, 0, 0, 0, 0, 0, 0, 0, 0, 0, 0, 0, 0, 0, 1, ...  \n",
       "10  [0, 0, 0, 0, 0, 0, 0, 0, 0, 0, 0, 0, 0, 0, 0, ...  \n",
       "11  [0, 0, 0, 0, 0, 0, 0, 0, 1, 0, 0, 0, 0, 0, 0, ...  \n",
       "12  [0, 0, 0, 0, 0, 0, 0, 0, 0, 0, 0, 0, 0, 0, 0, ...  \n",
       "13  [0, 0, 0, 0, 0, 0, 0, 0, 0, 0, 0, 1, 0, 0, 0, ...  \n",
       "14  [1, 0, 0, 0, 0, 0, 0, 0, 0, 0, 0, 1, 0, 0, 1, ...  \n",
       "15  [0, 0, 0, 0, 0, 1, 0, 0, 0, 0, 0, 1, 0, 0, 0, ...  \n",
       "16  [1, 1, 0, 0, 0, 0, 0, 0, 0, 0, 0, 0, 0, 0, 1, ...  \n",
       "17  [0, 1, 0, 0, 0, 1, 1, 0, 0, 0, 0, 1, 0, 0, 1, ...  \n",
       "18  [0, 0, 0, 0, 0, 1, 0, 0, 0, 0, 0, 1, 0, 0, 1, ...  \n",
       "19  [0, 0, 0, 0, 0, 0, 1, 0, 0, 0, 0, 1, 0, 0, 0, ...  \n",
       "20  [1, 0, 0, 0, 0, 0, 0, 0, 0, 0, 0, 0, 0, 0, 1, ...  \n",
       "21  [0, 0, 0, 0, 0, 0, 0, 0, 0, 0, 0, 0, 0, 0, 1, ...  \n",
       "22  [0, 0, 0, 0, 0, 0, 1, 0, 0, 0, 0, 1, 0, 0, 1, ...  \n",
       "23  [0, 0, 0, 0, 0, 0, 1, 0, 0, 0, 0, 1, 0, 0, 1, ...  \n",
       "24  [0, 0, 0, 0, 0, 0, 0, 0, 0, 0, 0, 1, 0, 0, 0, ...  \n",
       "25  [0, 0, 0, 0, 0, 1, 0, 0, 0, 0, 0, 1, 0, 0, 1, ...  \n",
       "26  [0, 0, 0, 1, 0, 1, 0, 0, 0, 0, 0, 0, 0, 0, 1, ...  \n",
       "27  [0, 0, 0, 0, 0, 1, 0, 0, 0, 0, 0, 0, 0, 0, 1, ...  \n",
       "28  [0, 0, 0, 0, 0, 0, 0, 0, 0, 0, 0, 0, 0, 0, 0, ...  \n",
       "29  [0, 0, 0, 0, 0, 0, 0, 0, 0, 0, 0, 1, 0, 0, 0, ...  \n",
       "30  [0, 0, 0, 0, 0, 0, 0, 0, 0, 0, 0, 0, 0, 0, 1, ...  \n",
       "31  [0, 0, 0, 0, 0, 0, 0, 0, 0, 0, 0, 0, 0, 0, 1, ...  \n",
       "32  [0, 0, 0, 0, 0, 0, 0, 0, 0, 0, 0, 0, 0, 0, 1, ...  \n",
       "33  [0, 0, 0, 0, 0, 0, 0, 0, 0, 0, 0, 1, 0, 0, 1, ...  \n",
       "34  [0, 0, 0, 0, 0, 0, 1, 0, 0, 0, 0, 0, 0, 0, 0, ...  \n",
       "35  [0, 0, 0, 0, 0, 0, 0, 0, 0, 0, 0, 0, 0, 0, 0, ...  \n",
       "36  [0, 0, 0, 0, 0, 0, 0, 0, 0, 0, 0, 1, 0, 0, 0, ...  \n",
       "37  [0, 1, 0, 0, 0, 0, 0, 0, 0, 0, 0, 0, 0, 0, 0, ...  \n",
       "38  [0, 0, 0, 0, 0, 0, 0, 0, 0, 0, 0, 0, 1, 0, 0, ...  \n",
       "39  [0, 1, 0, 0, 0, 0, 1, 0, 0, 0, 0, 0, 0, 0, 0, ...  \n",
       "40  [0, 1, 0, 0, 0, 0, 0, 0, 0, 0, 0, 0, 0, 0, 0, ...  \n",
       "41  [1, 1, 0, 0, 0, 0, 0, 0, 0, 0, 0, 0, 0, 0, 0, ...  "
      ],
      "text/html": "<div>\n<style scoped>\n    .dataframe tbody tr th:only-of-type {\n        vertical-align: middle;\n    }\n\n    .dataframe tbody tr th {\n        vertical-align: top;\n    }\n\n    .dataframe thead th {\n        text-align: right;\n    }\n</style>\n<table border=\"1\" class=\"dataframe\">\n  <thead>\n    <tr style=\"text-align: right;\">\n      <th></th>\n      <th></th>\n      <th>illness</th>\n      <th>illness_vector</th>\n    </tr>\n  </thead>\n  <tbody>\n    <tr>\n      <th>0</th>\n      <td>0</td>\n      <td>Fungal infection</td>\n      <td>[1, 1, 1, 0, 0, 0, 0, 0, 0, 0, 0, 0, 0, 0, 0, ...</td>\n    </tr>\n    <tr>\n      <th>1</th>\n      <td>1</td>\n      <td>Allergy</td>\n      <td>[0, 0, 0, 1, 1, 1, 0, 0, 0, 0, 0, 0, 0, 0, 0, ...</td>\n    </tr>\n    <tr>\n      <th>2</th>\n      <td>2</td>\n      <td>GERD</td>\n      <td>[0, 0, 0, 0, 0, 0, 0, 1, 1, 1, 0, 1, 0, 0, 0, ...</td>\n    </tr>\n    <tr>\n      <th>3</th>\n      <td>3</td>\n      <td>Chronic cholestasis</td>\n      <td>[1, 0, 0, 0, 0, 0, 0, 0, 0, 0, 0, 1, 0, 0, 0, ...</td>\n    </tr>\n    <tr>\n      <th>4</th>\n      <td>4</td>\n      <td>Drug Reaction</td>\n      <td>[1, 1, 0, 0, 0, 0, 0, 1, 0, 0, 0, 0, 1, 1, 0, ...</td>\n    </tr>\n    <tr>\n      <th>5</th>\n      <td>5</td>\n      <td>Peptic ulcer diseae</td>\n      <td>[0, 0, 0, 0, 0, 0, 0, 0, 0, 0, 0, 1, 0, 0, 0, ...</td>\n    </tr>\n    <tr>\n      <th>6</th>\n      <td>6</td>\n      <td>AIDS</td>\n      <td>[0, 0, 0, 0, 0, 0, 0, 0, 0, 0, 1, 0, 0, 0, 0, ...</td>\n    </tr>\n    <tr>\n      <th>7</th>\n      <td>7</td>\n      <td>Diabetes</td>\n      <td>[0, 0, 0, 0, 0, 0, 0, 0, 0, 0, 0, 0, 0, 0, 1, ...</td>\n    </tr>\n    <tr>\n      <th>8</th>\n      <td>8</td>\n      <td>Gastroenteritis</td>\n      <td>[0, 0, 0, 0, 0, 0, 0, 0, 0, 0, 0, 1, 0, 0, 0, ...</td>\n    </tr>\n    <tr>\n      <th>9</th>\n      <td>9</td>\n      <td>Bronchial Asthma</td>\n      <td>[0, 0, 0, 0, 0, 0, 0, 0, 0, 0, 0, 0, 0, 0, 1, ...</td>\n    </tr>\n    <tr>\n      <th>10</th>\n      <td>10</td>\n      <td>Hypertension</td>\n      <td>[0, 0, 0, 0, 0, 0, 0, 0, 0, 0, 0, 0, 0, 0, 0, ...</td>\n    </tr>\n    <tr>\n      <th>11</th>\n      <td>11</td>\n      <td>Migraine</td>\n      <td>[0, 0, 0, 0, 0, 0, 0, 0, 1, 0, 0, 0, 0, 0, 0, ...</td>\n    </tr>\n    <tr>\n      <th>12</th>\n      <td>12</td>\n      <td>Cervical spondylosis</td>\n      <td>[0, 0, 0, 0, 0, 0, 0, 0, 0, 0, 0, 0, 0, 0, 0, ...</td>\n    </tr>\n    <tr>\n      <th>13</th>\n      <td>13</td>\n      <td>Paralysis (brain hemorrhage)</td>\n      <td>[0, 0, 0, 0, 0, 0, 0, 0, 0, 0, 0, 1, 0, 0, 0, ...</td>\n    </tr>\n    <tr>\n      <th>14</th>\n      <td>14</td>\n      <td>Jaundice</td>\n      <td>[1, 0, 0, 0, 0, 0, 0, 0, 0, 0, 0, 1, 0, 0, 1, ...</td>\n    </tr>\n    <tr>\n      <th>15</th>\n      <td>15</td>\n      <td>Malaria</td>\n      <td>[0, 0, 0, 0, 0, 1, 0, 0, 0, 0, 0, 1, 0, 0, 0, ...</td>\n    </tr>\n    <tr>\n      <th>16</th>\n      <td>16</td>\n      <td>Chicken pox</td>\n      <td>[1, 1, 0, 0, 0, 0, 0, 0, 0, 0, 0, 0, 0, 0, 1, ...</td>\n    </tr>\n    <tr>\n      <th>17</th>\n      <td>17</td>\n      <td>Dengue</td>\n      <td>[0, 1, 0, 0, 0, 1, 1, 0, 0, 0, 0, 1, 0, 0, 1, ...</td>\n    </tr>\n    <tr>\n      <th>18</th>\n      <td>18</td>\n      <td>Typhoid</td>\n      <td>[0, 0, 0, 0, 0, 1, 0, 0, 0, 0, 0, 1, 0, 0, 1, ...</td>\n    </tr>\n    <tr>\n      <th>19</th>\n      <td>19</td>\n      <td>hepatitis A</td>\n      <td>[0, 0, 0, 0, 0, 0, 1, 0, 0, 0, 0, 1, 0, 0, 0, ...</td>\n    </tr>\n    <tr>\n      <th>20</th>\n      <td>20</td>\n      <td>Hepatitis B</td>\n      <td>[1, 0, 0, 0, 0, 0, 0, 0, 0, 0, 0, 0, 0, 0, 1, ...</td>\n    </tr>\n    <tr>\n      <th>21</th>\n      <td>21</td>\n      <td>Hepatitis C</td>\n      <td>[0, 0, 0, 0, 0, 0, 0, 0, 0, 0, 0, 0, 0, 0, 1, ...</td>\n    </tr>\n    <tr>\n      <th>22</th>\n      <td>22</td>\n      <td>Hepatitis D</td>\n      <td>[0, 0, 0, 0, 0, 0, 1, 0, 0, 0, 0, 1, 0, 0, 1, ...</td>\n    </tr>\n    <tr>\n      <th>23</th>\n      <td>23</td>\n      <td>Hepatitis E</td>\n      <td>[0, 0, 0, 0, 0, 0, 1, 0, 0, 0, 0, 1, 0, 0, 1, ...</td>\n    </tr>\n    <tr>\n      <th>24</th>\n      <td>24</td>\n      <td>Alcoholic hepatitis</td>\n      <td>[0, 0, 0, 0, 0, 0, 0, 0, 0, 0, 0, 1, 0, 0, 0, ...</td>\n    </tr>\n    <tr>\n      <th>25</th>\n      <td>25</td>\n      <td>Tuberculosis</td>\n      <td>[0, 0, 0, 0, 0, 1, 0, 0, 0, 0, 0, 1, 0, 0, 1, ...</td>\n    </tr>\n    <tr>\n      <th>26</th>\n      <td>26</td>\n      <td>Common Cold</td>\n      <td>[0, 0, 0, 1, 0, 1, 0, 0, 0, 0, 0, 0, 0, 0, 1, ...</td>\n    </tr>\n    <tr>\n      <th>27</th>\n      <td>27</td>\n      <td>Pneumonia</td>\n      <td>[0, 0, 0, 0, 0, 1, 0, 0, 0, 0, 0, 0, 0, 0, 1, ...</td>\n    </tr>\n    <tr>\n      <th>28</th>\n      <td>28</td>\n      <td>Dimorphic hemmorhoids(piles)</td>\n      <td>[0, 0, 0, 0, 0, 0, 0, 0, 0, 0, 0, 0, 0, 0, 0, ...</td>\n    </tr>\n    <tr>\n      <th>29</th>\n      <td>29</td>\n      <td>Heart attack</td>\n      <td>[0, 0, 0, 0, 0, 0, 0, 0, 0, 0, 0, 1, 0, 0, 0, ...</td>\n    </tr>\n    <tr>\n      <th>30</th>\n      <td>30</td>\n      <td>Varicose veins</td>\n      <td>[0, 0, 0, 0, 0, 0, 0, 0, 0, 0, 0, 0, 0, 0, 1, ...</td>\n    </tr>\n    <tr>\n      <th>31</th>\n      <td>31</td>\n      <td>Hypothyroidism</td>\n      <td>[0, 0, 0, 0, 0, 0, 0, 0, 0, 0, 0, 0, 0, 0, 1, ...</td>\n    </tr>\n    <tr>\n      <th>32</th>\n      <td>32</td>\n      <td>Hyperthyroidism</td>\n      <td>[0, 0, 0, 0, 0, 0, 0, 0, 0, 0, 0, 0, 0, 0, 1, ...</td>\n    </tr>\n    <tr>\n      <th>33</th>\n      <td>33</td>\n      <td>Hypoglycemia</td>\n      <td>[0, 0, 0, 0, 0, 0, 0, 0, 0, 0, 0, 1, 0, 0, 1, ...</td>\n    </tr>\n    <tr>\n      <th>34</th>\n      <td>34</td>\n      <td>Osteoarthristis</td>\n      <td>[0, 0, 0, 0, 0, 0, 1, 0, 0, 0, 0, 0, 0, 0, 0, ...</td>\n    </tr>\n    <tr>\n      <th>35</th>\n      <td>35</td>\n      <td>Arthritis</td>\n      <td>[0, 0, 0, 0, 0, 0, 0, 0, 0, 0, 0, 0, 0, 0, 0, ...</td>\n    </tr>\n    <tr>\n      <th>36</th>\n      <td>36</td>\n      <td>(vertigo) Paroymsal  Positional Vertigo</td>\n      <td>[0, 0, 0, 0, 0, 0, 0, 0, 0, 0, 0, 1, 0, 0, 0, ...</td>\n    </tr>\n    <tr>\n      <th>37</th>\n      <td>37</td>\n      <td>Acne</td>\n      <td>[0, 1, 0, 0, 0, 0, 0, 0, 0, 0, 0, 0, 0, 0, 0, ...</td>\n    </tr>\n    <tr>\n      <th>38</th>\n      <td>38</td>\n      <td>Urinary tract infection</td>\n      <td>[0, 0, 0, 0, 0, 0, 0, 0, 0, 0, 0, 0, 1, 0, 0, ...</td>\n    </tr>\n    <tr>\n      <th>39</th>\n      <td>39</td>\n      <td>Psoriasis</td>\n      <td>[0, 1, 0, 0, 0, 0, 1, 0, 0, 0, 0, 0, 0, 0, 0, ...</td>\n    </tr>\n    <tr>\n      <th>40</th>\n      <td>40</td>\n      <td>Impetigo</td>\n      <td>[0, 1, 0, 0, 0, 0, 0, 0, 0, 0, 0, 0, 0, 0, 0, ...</td>\n    </tr>\n    <tr>\n      <th>41</th>\n      <td>41</td>\n      <td>Fungal infection</td>\n      <td>[1, 1, 0, 0, 0, 0, 0, 0, 0, 0, 0, 0, 0, 0, 0, ...</td>\n    </tr>\n  </tbody>\n</table>\n</div>"
     },
     "metadata": {},
     "execution_count": 17
    }
   ],
   "source": [
    "diagnosis_df = pd.read_pickle(\"Illness.pkl\")\n",
    "diagnosis_df"
   ]
  },
  {
   "cell_type": "code",
   "execution_count": 13,
   "metadata": {},
   "outputs": [],
   "source": [
    "df3 = pd.read_csv(\"Symptoms.csv\")\r\n",
    "df3.to_pickle(\"Symptoms_new.pkl\")"
   ]
  },
  {
   "cell_type": "code",
   "execution_count": 4,
   "metadata": {},
   "outputs": [],
   "source": [
    "symptoms_df = pd.read_pickle(\"symptoms.pkl\")\n",
    "symptoms_df.to_csv('Symptoms1.csv')"
   ]
  },
  {
   "cell_type": "code",
   "execution_count": 3,
   "metadata": {},
   "outputs": [],
   "source": [
    "df = pd.read_pickle(\"Illness.pkl\")\n",
    "df.to_csv('Illness1.csv')"
   ]
  },
  {
   "cell_type": "code",
   "execution_count": null,
   "metadata": {},
   "outputs": [],
   "source": []
  }
 ]
}