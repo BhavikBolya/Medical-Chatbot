{
 "metadata": {
  "language_info": {
   "codemirror_mode": {
    "name": "ipython",
    "version": 3
   },
   "file_extension": ".py",
   "mimetype": "text/x-python",
   "name": "python",
   "nbconvert_exporter": "python",
   "pygments_lexer": "ipython3",
   "version": "3.8.0"
  },
  "orig_nbformat": 2,
  "kernelspec": {
   "name": "python380jvsc74a57bd0b8272897a8284498a4309cf705c665bcb40ab606922e8429c67ff5c0702cf904",
   "display_name": "Python 3.8.0 32-bit"
  },
  "metadata": {
   "interpreter": {
    "hash": "b8272897a8284498a4309cf705c665bcb40ab606922e8429c67ff5c0702cf904"
   }
  }
 },
 "nbformat": 4,
 "nbformat_minor": 2,
 "cells": [
  {
   "cell_type": "code",
   "execution_count": 1,
   "metadata": {},
   "outputs": [],
   "source": [
    "import pandas as pd\n",
    "import numpy as np\n",
    "import sklearn as sk\n",
    "from sklearn.svm import SVC\n",
    "from sklearn.naive_bayes import GaussianNB\n",
    "from sklearn.tree import DecisionTreeClassifier\n",
    "from sklearn.ensemble import RandomForestClassifier\n",
    "from sklearn.model_selection import cross_val_score"
   ]
  },
  {
   "cell_type": "code",
   "execution_count": 2,
   "metadata": {},
   "outputs": [],
   "source": [
    "df1 = pd.read_csv('Data/Training.csv')\n",
    "df2 = pd.read_csv('Data/Testing.csv')"
   ]
  },
  {
   "cell_type": "code",
   "execution_count": 3,
   "metadata": {},
   "outputs": [],
   "source": [
    "X_train = df1.iloc[:,:-1]\n",
    "y_train = df1.iloc[:,-1]\n",
    "\n",
    "X_test = df2.iloc[:,:-1]\n",
    "y_test = df2.iloc[:,-1]"
   ]
  },
  {
   "cell_type": "code",
   "execution_count": null,
   "metadata": {},
   "outputs": [],
   "source": [
    "# 0,0,0,0,0,0,0,0,0,0,0,0,0,0,1,0,0,0,0,0,0,0,0,0,1,1,0,1,0,0,0,0,0,0,0,0,0,0,0,0,0,0,0,0,0,0,0,0,0,0,0,0,0,0,0,0,0,0,0,0,0,0,0,0,0,0,0,0,0,0,0,0,0,0,0,0,0,0,0,0,0,0,0,0,0,0,0,0,0,0,0,0,0,0,0,0,0,0,0,0,0,0,0,0,0,0,1,1,0,0,0,0,0,0,0,0,0,0,0,0,0,0,0,0,0,0,0,0,0,0,0,0"
   ]
  },
  {
   "cell_type": "code",
   "execution_count": 53,
   "metadata": {},
   "outputs": [],
   "source": [
    "gnb = GaussianNB()\n",
    "clf1 = gnb.fit(X_train, y_train)\n"
   ]
  },
  {
   "cell_type": "code",
   "execution_count": 60,
   "metadata": {},
   "outputs": [
    {
     "output_type": "execute_result",
     "data": {
      "text/plain": [
       "array(['Bronchial Asthma'], dtype=object)"
      ]
     },
     "metadata": {},
     "execution_count": 60
    }
   ],
   "source": [
    "tree = DecisionTreeClassifier()\n",
    "clf2 = tree.fit(X_train, y_train)\n"
   ]
  },
  {
   "cell_type": "code",
   "execution_count": 1,
   "metadata": {},
   "outputs": [],
   "source": [
    "import pandas as pd"
   ]
  },
  {
   "cell_type": "code",
   "execution_count": 2,
   "metadata": {},
   "outputs": [
    {
     "output_type": "execute_result",
     "data": {
      "text/plain": [
       "    itching  skin_rash  nodal_skin_eruptions  continuous_sneezing  shivering  \\\n",
       "0         1          1                     1                    0          0   \n",
       "1         0          0                     0                    1          1   \n",
       "2         0          0                     0                    0          0   \n",
       "3         1          0                     0                    0          0   \n",
       "4         1          1                     0                    0          0   \n",
       "5         0          0                     0                    0          0   \n",
       "6         0          0                     0                    0          0   \n",
       "7         0          0                     0                    0          0   \n",
       "8         0          0                     0                    0          0   \n",
       "9         0          0                     0                    0          0   \n",
       "10        0          0                     0                    0          0   \n",
       "11        0          0                     0                    0          0   \n",
       "12        0          0                     0                    0          0   \n",
       "13        0          0                     0                    0          0   \n",
       "14        1          0                     0                    0          0   \n",
       "15        0          0                     0                    0          0   \n",
       "16        1          1                     0                    0          0   \n",
       "17        0          1                     0                    0          0   \n",
       "18        0          0                     0                    0          0   \n",
       "19        0          0                     0                    0          0   \n",
       "20        1          0                     0                    0          0   \n",
       "21        0          0                     0                    0          0   \n",
       "22        0          0                     0                    0          0   \n",
       "23        0          0                     0                    0          0   \n",
       "24        0          0                     0                    0          0   \n",
       "25        0          0                     0                    0          0   \n",
       "26        0          0                     0                    1          0   \n",
       "27        0          0                     0                    0          0   \n",
       "28        0          0                     0                    0          0   \n",
       "29        0          0                     0                    0          0   \n",
       "30        0          0                     0                    0          0   \n",
       "31        0          0                     0                    0          0   \n",
       "32        0          0                     0                    0          0   \n",
       "33        0          0                     0                    0          0   \n",
       "34        0          0                     0                    0          0   \n",
       "35        0          0                     0                    0          0   \n",
       "36        0          0                     0                    0          0   \n",
       "37        0          1                     0                    0          0   \n",
       "38        0          0                     0                    0          0   \n",
       "39        0          1                     0                    0          0   \n",
       "40        0          1                     0                    0          0   \n",
       "41        1          1                     0                    0          0   \n",
       "\n",
       "    chills  joint_pain  stomach_pain  acidity  ulcers_on_tongue  ...  \\\n",
       "0        0           0             0        0                 0  ...   \n",
       "1        1           0             0        0                 0  ...   \n",
       "2        0           0             1        1                 1  ...   \n",
       "3        0           0             0        0                 0  ...   \n",
       "4        0           0             1        0                 0  ...   \n",
       "5        0           0             0        0                 0  ...   \n",
       "6        0           0             0        0                 0  ...   \n",
       "7        0           0             0        0                 0  ...   \n",
       "8        0           0             0        0                 0  ...   \n",
       "9        0           0             0        0                 0  ...   \n",
       "10       0           0             0        0                 0  ...   \n",
       "11       0           0             0        1                 0  ...   \n",
       "12       0           0             0        0                 0  ...   \n",
       "13       0           0             0        0                 0  ...   \n",
       "14       0           0             0        0                 0  ...   \n",
       "15       1           0             0        0                 0  ...   \n",
       "16       0           0             0        0                 0  ...   \n",
       "17       1           1             0        0                 0  ...   \n",
       "18       1           0             0        0                 0  ...   \n",
       "19       0           1             0        0                 0  ...   \n",
       "20       0           0             0        0                 0  ...   \n",
       "21       0           0             0        0                 0  ...   \n",
       "22       0           1             0        0                 0  ...   \n",
       "23       0           1             0        0                 0  ...   \n",
       "24       0           0             0        0                 0  ...   \n",
       "25       1           0             0        0                 0  ...   \n",
       "26       1           0             0        0                 0  ...   \n",
       "27       1           0             0        0                 0  ...   \n",
       "28       0           0             0        0                 0  ...   \n",
       "29       0           0             0        0                 0  ...   \n",
       "30       0           0             0        0                 0  ...   \n",
       "31       0           0             0        0                 0  ...   \n",
       "32       0           0             0        0                 0  ...   \n",
       "33       0           0             0        0                 0  ...   \n",
       "34       0           1             0        0                 0  ...   \n",
       "35       0           0             0        0                 0  ...   \n",
       "36       0           0             0        0                 0  ...   \n",
       "37       0           0             0        0                 0  ...   \n",
       "38       0           0             0        0                 0  ...   \n",
       "39       0           1             0        0                 0  ...   \n",
       "40       0           0             0        0                 0  ...   \n",
       "41       0           0             0        0                 0  ...   \n",
       "\n",
       "    blackheads  scurring  skin_peeling  silver_like_dusting  \\\n",
       "0            0         0             0                    0   \n",
       "1            0         0             0                    0   \n",
       "2            0         0             0                    0   \n",
       "3            0         0             0                    0   \n",
       "4            0         0             0                    0   \n",
       "5            0         0             0                    0   \n",
       "6            0         0             0                    0   \n",
       "7            0         0             0                    0   \n",
       "8            0         0             0                    0   \n",
       "9            0         0             0                    0   \n",
       "10           0         0             0                    0   \n",
       "11           0         0             0                    0   \n",
       "12           0         0             0                    0   \n",
       "13           0         0             0                    0   \n",
       "14           0         0             0                    0   \n",
       "15           0         0             0                    0   \n",
       "16           0         0             0                    0   \n",
       "17           0         0             0                    0   \n",
       "18           0         0             0                    0   \n",
       "19           0         0             0                    0   \n",
       "20           0         0             0                    0   \n",
       "21           0         0             0                    0   \n",
       "22           0         0             0                    0   \n",
       "23           0         0             0                    0   \n",
       "24           0         0             0                    0   \n",
       "25           0         0             0                    0   \n",
       "26           0         0             0                    0   \n",
       "27           0         0             0                    0   \n",
       "28           0         0             0                    0   \n",
       "29           0         0             0                    0   \n",
       "30           0         0             0                    0   \n",
       "31           0         0             0                    0   \n",
       "32           0         0             0                    0   \n",
       "33           0         0             0                    0   \n",
       "34           0         0             0                    0   \n",
       "35           0         0             0                    0   \n",
       "36           0         0             0                    0   \n",
       "37           1         1             0                    0   \n",
       "38           0         0             0                    0   \n",
       "39           0         0             1                    1   \n",
       "40           0         0             0                    0   \n",
       "41           0         0             1                    0   \n",
       "\n",
       "    small_dents_in_nails  inflammatory_nails  blister  red_sore_around_nose  \\\n",
       "0                      0                   0        0                     0   \n",
       "1                      0                   0        0                     0   \n",
       "2                      0                   0        0                     0   \n",
       "3                      0                   0        0                     0   \n",
       "4                      0                   0        0                     0   \n",
       "5                      0                   0        0                     0   \n",
       "6                      0                   0        0                     0   \n",
       "7                      0                   0        0                     0   \n",
       "8                      0                   0        0                     0   \n",
       "9                      0                   0        0                     0   \n",
       "10                     0                   0        0                     0   \n",
       "11                     0                   0        0                     0   \n",
       "12                     0                   0        0                     0   \n",
       "13                     0                   0        0                     0   \n",
       "14                     0                   0        0                     0   \n",
       "15                     0                   0        0                     0   \n",
       "16                     0                   0        0                     0   \n",
       "17                     0                   0        0                     0   \n",
       "18                     0                   0        0                     0   \n",
       "19                     0                   0        0                     0   \n",
       "20                     0                   0        0                     0   \n",
       "21                     0                   0        0                     0   \n",
       "22                     0                   0        0                     0   \n",
       "23                     0                   0        0                     0   \n",
       "24                     0                   0        0                     0   \n",
       "25                     0                   0        0                     0   \n",
       "26                     0                   0        0                     0   \n",
       "27                     0                   0        0                     0   \n",
       "28                     0                   0        0                     0   \n",
       "29                     0                   0        0                     0   \n",
       "30                     0                   0        0                     0   \n",
       "31                     0                   0        0                     0   \n",
       "32                     0                   0        0                     0   \n",
       "33                     0                   0        0                     0   \n",
       "34                     0                   0        0                     0   \n",
       "35                     0                   0        0                     0   \n",
       "36                     0                   0        0                     0   \n",
       "37                     0                   0        0                     0   \n",
       "38                     0                   0        0                     0   \n",
       "39                     1                   1        0                     0   \n",
       "40                     0                   0        1                     1   \n",
       "41                     0                   0        0                     1   \n",
       "\n",
       "    yellow_crust_ooze                                prognosis  \n",
       "0                   0                         Fungal infection  \n",
       "1                   0                                  Allergy  \n",
       "2                   0                                     GERD  \n",
       "3                   0                      Chronic cholestasis  \n",
       "4                   0                            Drug Reaction  \n",
       "5                   0                      Peptic ulcer diseae  \n",
       "6                   0                                     AIDS  \n",
       "7                   0                                Diabetes   \n",
       "8                   0                          Gastroenteritis  \n",
       "9                   0                         Bronchial Asthma  \n",
       "10                  0                            Hypertension   \n",
       "11                  0                                 Migraine  \n",
       "12                  0                     Cervical spondylosis  \n",
       "13                  0             Paralysis (brain hemorrhage)  \n",
       "14                  0                                 Jaundice  \n",
       "15                  0                                  Malaria  \n",
       "16                  0                              Chicken pox  \n",
       "17                  0                                   Dengue  \n",
       "18                  0                                  Typhoid  \n",
       "19                  0                              hepatitis A  \n",
       "20                  0                              Hepatitis B  \n",
       "21                  0                              Hepatitis C  \n",
       "22                  0                              Hepatitis D  \n",
       "23                  0                              Hepatitis E  \n",
       "24                  0                      Alcoholic hepatitis  \n",
       "25                  0                             Tuberculosis  \n",
       "26                  0                              Common Cold  \n",
       "27                  0                                Pneumonia  \n",
       "28                  0             Dimorphic hemmorhoids(piles)  \n",
       "29                  0                             Heart attack  \n",
       "30                  0                           Varicose veins  \n",
       "31                  0                           Hypothyroidism  \n",
       "32                  0                          Hyperthyroidism  \n",
       "33                  0                             Hypoglycemia  \n",
       "34                  0                          Osteoarthristis  \n",
       "35                  0                                Arthritis  \n",
       "36                  0  (vertigo) Paroymsal  Positional Vertigo  \n",
       "37                  0                                     Acne  \n",
       "38                  0                  Urinary tract infection  \n",
       "39                  0                                Psoriasis  \n",
       "40                  1                                 Impetigo  \n",
       "41                  0                         Fungal infection  \n",
       "\n",
       "[42 rows x 133 columns]"
      ],
      "text/html": "<div>\n<style scoped>\n    .dataframe tbody tr th:only-of-type {\n        vertical-align: middle;\n    }\n\n    .dataframe tbody tr th {\n        vertical-align: top;\n    }\n\n    .dataframe thead th {\n        text-align: right;\n    }\n</style>\n<table border=\"1\" class=\"dataframe\">\n  <thead>\n    <tr style=\"text-align: right;\">\n      <th></th>\n      <th>itching</th>\n      <th>skin_rash</th>\n      <th>nodal_skin_eruptions</th>\n      <th>continuous_sneezing</th>\n      <th>shivering</th>\n      <th>chills</th>\n      <th>joint_pain</th>\n      <th>stomach_pain</th>\n      <th>acidity</th>\n      <th>ulcers_on_tongue</th>\n      <th>...</th>\n      <th>blackheads</th>\n      <th>scurring</th>\n      <th>skin_peeling</th>\n      <th>silver_like_dusting</th>\n      <th>small_dents_in_nails</th>\n      <th>inflammatory_nails</th>\n      <th>blister</th>\n      <th>red_sore_around_nose</th>\n      <th>yellow_crust_ooze</th>\n      <th>prognosis</th>\n    </tr>\n  </thead>\n  <tbody>\n    <tr>\n      <th>0</th>\n      <td>1</td>\n      <td>1</td>\n      <td>1</td>\n      <td>0</td>\n      <td>0</td>\n      <td>0</td>\n      <td>0</td>\n      <td>0</td>\n      <td>0</td>\n      <td>0</td>\n      <td>...</td>\n      <td>0</td>\n      <td>0</td>\n      <td>0</td>\n      <td>0</td>\n      <td>0</td>\n      <td>0</td>\n      <td>0</td>\n      <td>0</td>\n      <td>0</td>\n      <td>Fungal infection</td>\n    </tr>\n    <tr>\n      <th>1</th>\n      <td>0</td>\n      <td>0</td>\n      <td>0</td>\n      <td>1</td>\n      <td>1</td>\n      <td>1</td>\n      <td>0</td>\n      <td>0</td>\n      <td>0</td>\n      <td>0</td>\n      <td>...</td>\n      <td>0</td>\n      <td>0</td>\n      <td>0</td>\n      <td>0</td>\n      <td>0</td>\n      <td>0</td>\n      <td>0</td>\n      <td>0</td>\n      <td>0</td>\n      <td>Allergy</td>\n    </tr>\n    <tr>\n      <th>2</th>\n      <td>0</td>\n      <td>0</td>\n      <td>0</td>\n      <td>0</td>\n      <td>0</td>\n      <td>0</td>\n      <td>0</td>\n      <td>1</td>\n      <td>1</td>\n      <td>1</td>\n      <td>...</td>\n      <td>0</td>\n      <td>0</td>\n      <td>0</td>\n      <td>0</td>\n      <td>0</td>\n      <td>0</td>\n      <td>0</td>\n      <td>0</td>\n      <td>0</td>\n      <td>GERD</td>\n    </tr>\n    <tr>\n      <th>3</th>\n      <td>1</td>\n      <td>0</td>\n      <td>0</td>\n      <td>0</td>\n      <td>0</td>\n      <td>0</td>\n      <td>0</td>\n      <td>0</td>\n      <td>0</td>\n      <td>0</td>\n      <td>...</td>\n      <td>0</td>\n      <td>0</td>\n      <td>0</td>\n      <td>0</td>\n      <td>0</td>\n      <td>0</td>\n      <td>0</td>\n      <td>0</td>\n      <td>0</td>\n      <td>Chronic cholestasis</td>\n    </tr>\n    <tr>\n      <th>4</th>\n      <td>1</td>\n      <td>1</td>\n      <td>0</td>\n      <td>0</td>\n      <td>0</td>\n      <td>0</td>\n      <td>0</td>\n      <td>1</td>\n      <td>0</td>\n      <td>0</td>\n      <td>...</td>\n      <td>0</td>\n      <td>0</td>\n      <td>0</td>\n      <td>0</td>\n      <td>0</td>\n      <td>0</td>\n      <td>0</td>\n      <td>0</td>\n      <td>0</td>\n      <td>Drug Reaction</td>\n    </tr>\n    <tr>\n      <th>5</th>\n      <td>0</td>\n      <td>0</td>\n      <td>0</td>\n      <td>0</td>\n      <td>0</td>\n      <td>0</td>\n      <td>0</td>\n      <td>0</td>\n      <td>0</td>\n      <td>0</td>\n      <td>...</td>\n      <td>0</td>\n      <td>0</td>\n      <td>0</td>\n      <td>0</td>\n      <td>0</td>\n      <td>0</td>\n      <td>0</td>\n      <td>0</td>\n      <td>0</td>\n      <td>Peptic ulcer diseae</td>\n    </tr>\n    <tr>\n      <th>6</th>\n      <td>0</td>\n      <td>0</td>\n      <td>0</td>\n      <td>0</td>\n      <td>0</td>\n      <td>0</td>\n      <td>0</td>\n      <td>0</td>\n      <td>0</td>\n      <td>0</td>\n      <td>...</td>\n      <td>0</td>\n      <td>0</td>\n      <td>0</td>\n      <td>0</td>\n      <td>0</td>\n      <td>0</td>\n      <td>0</td>\n      <td>0</td>\n      <td>0</td>\n      <td>AIDS</td>\n    </tr>\n    <tr>\n      <th>7</th>\n      <td>0</td>\n      <td>0</td>\n      <td>0</td>\n      <td>0</td>\n      <td>0</td>\n      <td>0</td>\n      <td>0</td>\n      <td>0</td>\n      <td>0</td>\n      <td>0</td>\n      <td>...</td>\n      <td>0</td>\n      <td>0</td>\n      <td>0</td>\n      <td>0</td>\n      <td>0</td>\n      <td>0</td>\n      <td>0</td>\n      <td>0</td>\n      <td>0</td>\n      <td>Diabetes</td>\n    </tr>\n    <tr>\n      <th>8</th>\n      <td>0</td>\n      <td>0</td>\n      <td>0</td>\n      <td>0</td>\n      <td>0</td>\n      <td>0</td>\n      <td>0</td>\n      <td>0</td>\n      <td>0</td>\n      <td>0</td>\n      <td>...</td>\n      <td>0</td>\n      <td>0</td>\n      <td>0</td>\n      <td>0</td>\n      <td>0</td>\n      <td>0</td>\n      <td>0</td>\n      <td>0</td>\n      <td>0</td>\n      <td>Gastroenteritis</td>\n    </tr>\n    <tr>\n      <th>9</th>\n      <td>0</td>\n      <td>0</td>\n      <td>0</td>\n      <td>0</td>\n      <td>0</td>\n      <td>0</td>\n      <td>0</td>\n      <td>0</td>\n      <td>0</td>\n      <td>0</td>\n      <td>...</td>\n      <td>0</td>\n      <td>0</td>\n      <td>0</td>\n      <td>0</td>\n      <td>0</td>\n      <td>0</td>\n      <td>0</td>\n      <td>0</td>\n      <td>0</td>\n      <td>Bronchial Asthma</td>\n    </tr>\n    <tr>\n      <th>10</th>\n      <td>0</td>\n      <td>0</td>\n      <td>0</td>\n      <td>0</td>\n      <td>0</td>\n      <td>0</td>\n      <td>0</td>\n      <td>0</td>\n      <td>0</td>\n      <td>0</td>\n      <td>...</td>\n      <td>0</td>\n      <td>0</td>\n      <td>0</td>\n      <td>0</td>\n      <td>0</td>\n      <td>0</td>\n      <td>0</td>\n      <td>0</td>\n      <td>0</td>\n      <td>Hypertension</td>\n    </tr>\n    <tr>\n      <th>11</th>\n      <td>0</td>\n      <td>0</td>\n      <td>0</td>\n      <td>0</td>\n      <td>0</td>\n      <td>0</td>\n      <td>0</td>\n      <td>0</td>\n      <td>1</td>\n      <td>0</td>\n      <td>...</td>\n      <td>0</td>\n      <td>0</td>\n      <td>0</td>\n      <td>0</td>\n      <td>0</td>\n      <td>0</td>\n      <td>0</td>\n      <td>0</td>\n      <td>0</td>\n      <td>Migraine</td>\n    </tr>\n    <tr>\n      <th>12</th>\n      <td>0</td>\n      <td>0</td>\n      <td>0</td>\n      <td>0</td>\n      <td>0</td>\n      <td>0</td>\n      <td>0</td>\n      <td>0</td>\n      <td>0</td>\n      <td>0</td>\n      <td>...</td>\n      <td>0</td>\n      <td>0</td>\n      <td>0</td>\n      <td>0</td>\n      <td>0</td>\n      <td>0</td>\n      <td>0</td>\n      <td>0</td>\n      <td>0</td>\n      <td>Cervical spondylosis</td>\n    </tr>\n    <tr>\n      <th>13</th>\n      <td>0</td>\n      <td>0</td>\n      <td>0</td>\n      <td>0</td>\n      <td>0</td>\n      <td>0</td>\n      <td>0</td>\n      <td>0</td>\n      <td>0</td>\n      <td>0</td>\n      <td>...</td>\n      <td>0</td>\n      <td>0</td>\n      <td>0</td>\n      <td>0</td>\n      <td>0</td>\n      <td>0</td>\n      <td>0</td>\n      <td>0</td>\n      <td>0</td>\n      <td>Paralysis (brain hemorrhage)</td>\n    </tr>\n    <tr>\n      <th>14</th>\n      <td>1</td>\n      <td>0</td>\n      <td>0</td>\n      <td>0</td>\n      <td>0</td>\n      <td>0</td>\n      <td>0</td>\n      <td>0</td>\n      <td>0</td>\n      <td>0</td>\n      <td>...</td>\n      <td>0</td>\n      <td>0</td>\n      <td>0</td>\n      <td>0</td>\n      <td>0</td>\n      <td>0</td>\n      <td>0</td>\n      <td>0</td>\n      <td>0</td>\n      <td>Jaundice</td>\n    </tr>\n    <tr>\n      <th>15</th>\n      <td>0</td>\n      <td>0</td>\n      <td>0</td>\n      <td>0</td>\n      <td>0</td>\n      <td>1</td>\n      <td>0</td>\n      <td>0</td>\n      <td>0</td>\n      <td>0</td>\n      <td>...</td>\n      <td>0</td>\n      <td>0</td>\n      <td>0</td>\n      <td>0</td>\n      <td>0</td>\n      <td>0</td>\n      <td>0</td>\n      <td>0</td>\n      <td>0</td>\n      <td>Malaria</td>\n    </tr>\n    <tr>\n      <th>16</th>\n      <td>1</td>\n      <td>1</td>\n      <td>0</td>\n      <td>0</td>\n      <td>0</td>\n      <td>0</td>\n      <td>0</td>\n      <td>0</td>\n      <td>0</td>\n      <td>0</td>\n      <td>...</td>\n      <td>0</td>\n      <td>0</td>\n      <td>0</td>\n      <td>0</td>\n      <td>0</td>\n      <td>0</td>\n      <td>0</td>\n      <td>0</td>\n      <td>0</td>\n      <td>Chicken pox</td>\n    </tr>\n    <tr>\n      <th>17</th>\n      <td>0</td>\n      <td>1</td>\n      <td>0</td>\n      <td>0</td>\n      <td>0</td>\n      <td>1</td>\n      <td>1</td>\n      <td>0</td>\n      <td>0</td>\n      <td>0</td>\n      <td>...</td>\n      <td>0</td>\n      <td>0</td>\n      <td>0</td>\n      <td>0</td>\n      <td>0</td>\n      <td>0</td>\n      <td>0</td>\n      <td>0</td>\n      <td>0</td>\n      <td>Dengue</td>\n    </tr>\n    <tr>\n      <th>18</th>\n      <td>0</td>\n      <td>0</td>\n      <td>0</td>\n      <td>0</td>\n      <td>0</td>\n      <td>1</td>\n      <td>0</td>\n      <td>0</td>\n      <td>0</td>\n      <td>0</td>\n      <td>...</td>\n      <td>0</td>\n      <td>0</td>\n      <td>0</td>\n      <td>0</td>\n      <td>0</td>\n      <td>0</td>\n      <td>0</td>\n      <td>0</td>\n      <td>0</td>\n      <td>Typhoid</td>\n    </tr>\n    <tr>\n      <th>19</th>\n      <td>0</td>\n      <td>0</td>\n      <td>0</td>\n      <td>0</td>\n      <td>0</td>\n      <td>0</td>\n      <td>1</td>\n      <td>0</td>\n      <td>0</td>\n      <td>0</td>\n      <td>...</td>\n      <td>0</td>\n      <td>0</td>\n      <td>0</td>\n      <td>0</td>\n      <td>0</td>\n      <td>0</td>\n      <td>0</td>\n      <td>0</td>\n      <td>0</td>\n      <td>hepatitis A</td>\n    </tr>\n    <tr>\n      <th>20</th>\n      <td>1</td>\n      <td>0</td>\n      <td>0</td>\n      <td>0</td>\n      <td>0</td>\n      <td>0</td>\n      <td>0</td>\n      <td>0</td>\n      <td>0</td>\n      <td>0</td>\n      <td>...</td>\n      <td>0</td>\n      <td>0</td>\n      <td>0</td>\n      <td>0</td>\n      <td>0</td>\n      <td>0</td>\n      <td>0</td>\n      <td>0</td>\n      <td>0</td>\n      <td>Hepatitis B</td>\n    </tr>\n    <tr>\n      <th>21</th>\n      <td>0</td>\n      <td>0</td>\n      <td>0</td>\n      <td>0</td>\n      <td>0</td>\n      <td>0</td>\n      <td>0</td>\n      <td>0</td>\n      <td>0</td>\n      <td>0</td>\n      <td>...</td>\n      <td>0</td>\n      <td>0</td>\n      <td>0</td>\n      <td>0</td>\n      <td>0</td>\n      <td>0</td>\n      <td>0</td>\n      <td>0</td>\n      <td>0</td>\n      <td>Hepatitis C</td>\n    </tr>\n    <tr>\n      <th>22</th>\n      <td>0</td>\n      <td>0</td>\n      <td>0</td>\n      <td>0</td>\n      <td>0</td>\n      <td>0</td>\n      <td>1</td>\n      <td>0</td>\n      <td>0</td>\n      <td>0</td>\n      <td>...</td>\n      <td>0</td>\n      <td>0</td>\n      <td>0</td>\n      <td>0</td>\n      <td>0</td>\n      <td>0</td>\n      <td>0</td>\n      <td>0</td>\n      <td>0</td>\n      <td>Hepatitis D</td>\n    </tr>\n    <tr>\n      <th>23</th>\n      <td>0</td>\n      <td>0</td>\n      <td>0</td>\n      <td>0</td>\n      <td>0</td>\n      <td>0</td>\n      <td>1</td>\n      <td>0</td>\n      <td>0</td>\n      <td>0</td>\n      <td>...</td>\n      <td>0</td>\n      <td>0</td>\n      <td>0</td>\n      <td>0</td>\n      <td>0</td>\n      <td>0</td>\n      <td>0</td>\n      <td>0</td>\n      <td>0</td>\n      <td>Hepatitis E</td>\n    </tr>\n    <tr>\n      <th>24</th>\n      <td>0</td>\n      <td>0</td>\n      <td>0</td>\n      <td>0</td>\n      <td>0</td>\n      <td>0</td>\n      <td>0</td>\n      <td>0</td>\n      <td>0</td>\n      <td>0</td>\n      <td>...</td>\n      <td>0</td>\n      <td>0</td>\n      <td>0</td>\n      <td>0</td>\n      <td>0</td>\n      <td>0</td>\n      <td>0</td>\n      <td>0</td>\n      <td>0</td>\n      <td>Alcoholic hepatitis</td>\n    </tr>\n    <tr>\n      <th>25</th>\n      <td>0</td>\n      <td>0</td>\n      <td>0</td>\n      <td>0</td>\n      <td>0</td>\n      <td>1</td>\n      <td>0</td>\n      <td>0</td>\n      <td>0</td>\n      <td>0</td>\n      <td>...</td>\n      <td>0</td>\n      <td>0</td>\n      <td>0</td>\n      <td>0</td>\n      <td>0</td>\n      <td>0</td>\n      <td>0</td>\n      <td>0</td>\n      <td>0</td>\n      <td>Tuberculosis</td>\n    </tr>\n    <tr>\n      <th>26</th>\n      <td>0</td>\n      <td>0</td>\n      <td>0</td>\n      <td>1</td>\n      <td>0</td>\n      <td>1</td>\n      <td>0</td>\n      <td>0</td>\n      <td>0</td>\n      <td>0</td>\n      <td>...</td>\n      <td>0</td>\n      <td>0</td>\n      <td>0</td>\n      <td>0</td>\n      <td>0</td>\n      <td>0</td>\n      <td>0</td>\n      <td>0</td>\n      <td>0</td>\n      <td>Common Cold</td>\n    </tr>\n    <tr>\n      <th>27</th>\n      <td>0</td>\n      <td>0</td>\n      <td>0</td>\n      <td>0</td>\n      <td>0</td>\n      <td>1</td>\n      <td>0</td>\n      <td>0</td>\n      <td>0</td>\n      <td>0</td>\n      <td>...</td>\n      <td>0</td>\n      <td>0</td>\n      <td>0</td>\n      <td>0</td>\n      <td>0</td>\n      <td>0</td>\n      <td>0</td>\n      <td>0</td>\n      <td>0</td>\n      <td>Pneumonia</td>\n    </tr>\n    <tr>\n      <th>28</th>\n      <td>0</td>\n      <td>0</td>\n      <td>0</td>\n      <td>0</td>\n      <td>0</td>\n      <td>0</td>\n      <td>0</td>\n      <td>0</td>\n      <td>0</td>\n      <td>0</td>\n      <td>...</td>\n      <td>0</td>\n      <td>0</td>\n      <td>0</td>\n      <td>0</td>\n      <td>0</td>\n      <td>0</td>\n      <td>0</td>\n      <td>0</td>\n      <td>0</td>\n      <td>Dimorphic hemmorhoids(piles)</td>\n    </tr>\n    <tr>\n      <th>29</th>\n      <td>0</td>\n      <td>0</td>\n      <td>0</td>\n      <td>0</td>\n      <td>0</td>\n      <td>0</td>\n      <td>0</td>\n      <td>0</td>\n      <td>0</td>\n      <td>0</td>\n      <td>...</td>\n      <td>0</td>\n      <td>0</td>\n      <td>0</td>\n      <td>0</td>\n      <td>0</td>\n      <td>0</td>\n      <td>0</td>\n      <td>0</td>\n      <td>0</td>\n      <td>Heart attack</td>\n    </tr>\n    <tr>\n      <th>30</th>\n      <td>0</td>\n      <td>0</td>\n      <td>0</td>\n      <td>0</td>\n      <td>0</td>\n      <td>0</td>\n      <td>0</td>\n      <td>0</td>\n      <td>0</td>\n      <td>0</td>\n      <td>...</td>\n      <td>0</td>\n      <td>0</td>\n      <td>0</td>\n      <td>0</td>\n      <td>0</td>\n      <td>0</td>\n      <td>0</td>\n      <td>0</td>\n      <td>0</td>\n      <td>Varicose veins</td>\n    </tr>\n    <tr>\n      <th>31</th>\n      <td>0</td>\n      <td>0</td>\n      <td>0</td>\n      <td>0</td>\n      <td>0</td>\n      <td>0</td>\n      <td>0</td>\n      <td>0</td>\n      <td>0</td>\n      <td>0</td>\n      <td>...</td>\n      <td>0</td>\n      <td>0</td>\n      <td>0</td>\n      <td>0</td>\n      <td>0</td>\n      <td>0</td>\n      <td>0</td>\n      <td>0</td>\n      <td>0</td>\n      <td>Hypothyroidism</td>\n    </tr>\n    <tr>\n      <th>32</th>\n      <td>0</td>\n      <td>0</td>\n      <td>0</td>\n      <td>0</td>\n      <td>0</td>\n      <td>0</td>\n      <td>0</td>\n      <td>0</td>\n      <td>0</td>\n      <td>0</td>\n      <td>...</td>\n      <td>0</td>\n      <td>0</td>\n      <td>0</td>\n      <td>0</td>\n      <td>0</td>\n      <td>0</td>\n      <td>0</td>\n      <td>0</td>\n      <td>0</td>\n      <td>Hyperthyroidism</td>\n    </tr>\n    <tr>\n      <th>33</th>\n      <td>0</td>\n      <td>0</td>\n      <td>0</td>\n      <td>0</td>\n      <td>0</td>\n      <td>0</td>\n      <td>0</td>\n      <td>0</td>\n      <td>0</td>\n      <td>0</td>\n      <td>...</td>\n      <td>0</td>\n      <td>0</td>\n      <td>0</td>\n      <td>0</td>\n      <td>0</td>\n      <td>0</td>\n      <td>0</td>\n      <td>0</td>\n      <td>0</td>\n      <td>Hypoglycemia</td>\n    </tr>\n    <tr>\n      <th>34</th>\n      <td>0</td>\n      <td>0</td>\n      <td>0</td>\n      <td>0</td>\n      <td>0</td>\n      <td>0</td>\n      <td>1</td>\n      <td>0</td>\n      <td>0</td>\n      <td>0</td>\n      <td>...</td>\n      <td>0</td>\n      <td>0</td>\n      <td>0</td>\n      <td>0</td>\n      <td>0</td>\n      <td>0</td>\n      <td>0</td>\n      <td>0</td>\n      <td>0</td>\n      <td>Osteoarthristis</td>\n    </tr>\n    <tr>\n      <th>35</th>\n      <td>0</td>\n      <td>0</td>\n      <td>0</td>\n      <td>0</td>\n      <td>0</td>\n      <td>0</td>\n      <td>0</td>\n      <td>0</td>\n      <td>0</td>\n      <td>0</td>\n      <td>...</td>\n      <td>0</td>\n      <td>0</td>\n      <td>0</td>\n      <td>0</td>\n      <td>0</td>\n      <td>0</td>\n      <td>0</td>\n      <td>0</td>\n      <td>0</td>\n      <td>Arthritis</td>\n    </tr>\n    <tr>\n      <th>36</th>\n      <td>0</td>\n      <td>0</td>\n      <td>0</td>\n      <td>0</td>\n      <td>0</td>\n      <td>0</td>\n      <td>0</td>\n      <td>0</td>\n      <td>0</td>\n      <td>0</td>\n      <td>...</td>\n      <td>0</td>\n      <td>0</td>\n      <td>0</td>\n      <td>0</td>\n      <td>0</td>\n      <td>0</td>\n      <td>0</td>\n      <td>0</td>\n      <td>0</td>\n      <td>(vertigo) Paroymsal  Positional Vertigo</td>\n    </tr>\n    <tr>\n      <th>37</th>\n      <td>0</td>\n      <td>1</td>\n      <td>0</td>\n      <td>0</td>\n      <td>0</td>\n      <td>0</td>\n      <td>0</td>\n      <td>0</td>\n      <td>0</td>\n      <td>0</td>\n      <td>...</td>\n      <td>1</td>\n      <td>1</td>\n      <td>0</td>\n      <td>0</td>\n      <td>0</td>\n      <td>0</td>\n      <td>0</td>\n      <td>0</td>\n      <td>0</td>\n      <td>Acne</td>\n    </tr>\n    <tr>\n      <th>38</th>\n      <td>0</td>\n      <td>0</td>\n      <td>0</td>\n      <td>0</td>\n      <td>0</td>\n      <td>0</td>\n      <td>0</td>\n      <td>0</td>\n      <td>0</td>\n      <td>0</td>\n      <td>...</td>\n      <td>0</td>\n      <td>0</td>\n      <td>0</td>\n      <td>0</td>\n      <td>0</td>\n      <td>0</td>\n      <td>0</td>\n      <td>0</td>\n      <td>0</td>\n      <td>Urinary tract infection</td>\n    </tr>\n    <tr>\n      <th>39</th>\n      <td>0</td>\n      <td>1</td>\n      <td>0</td>\n      <td>0</td>\n      <td>0</td>\n      <td>0</td>\n      <td>1</td>\n      <td>0</td>\n      <td>0</td>\n      <td>0</td>\n      <td>...</td>\n      <td>0</td>\n      <td>0</td>\n      <td>1</td>\n      <td>1</td>\n      <td>1</td>\n      <td>1</td>\n      <td>0</td>\n      <td>0</td>\n      <td>0</td>\n      <td>Psoriasis</td>\n    </tr>\n    <tr>\n      <th>40</th>\n      <td>0</td>\n      <td>1</td>\n      <td>0</td>\n      <td>0</td>\n      <td>0</td>\n      <td>0</td>\n      <td>0</td>\n      <td>0</td>\n      <td>0</td>\n      <td>0</td>\n      <td>...</td>\n      <td>0</td>\n      <td>0</td>\n      <td>0</td>\n      <td>0</td>\n      <td>0</td>\n      <td>0</td>\n      <td>1</td>\n      <td>1</td>\n      <td>1</td>\n      <td>Impetigo</td>\n    </tr>\n    <tr>\n      <th>41</th>\n      <td>1</td>\n      <td>1</td>\n      <td>0</td>\n      <td>0</td>\n      <td>0</td>\n      <td>0</td>\n      <td>0</td>\n      <td>0</td>\n      <td>0</td>\n      <td>0</td>\n      <td>...</td>\n      <td>0</td>\n      <td>0</td>\n      <td>1</td>\n      <td>0</td>\n      <td>0</td>\n      <td>0</td>\n      <td>0</td>\n      <td>1</td>\n      <td>0</td>\n      <td>Fungal infection</td>\n    </tr>\n  </tbody>\n</table>\n<p>42 rows × 133 columns</p>\n</div>"
     },
     "metadata": {},
     "execution_count": 2
    }
   ],
   "source": [
    "df = pd.read_csv('Data/Testing.csv')"
   ]
  },
  {
   "cell_type": "code",
   "execution_count": 3,
   "metadata": {},
   "outputs": [],
   "source": [
    "symptoms = df.columns"
   ]
  },
  {
   "cell_type": "code",
   "execution_count": 4,
   "metadata": {},
   "outputs": [],
   "source": [
    "filename = \"Symptoms.csv\"\n",
    "f = open(filename, \"w\")\n",
    "headers = \"symptom_name\\n\"\n",
    "f.write(headers)\n",
    "for i in symptoms:\n",
    "    if '_' in i:\n",
    "        i = str(i)\n",
    "        i = i.replace('_', ' ')\n",
    "    f.write(i + \"\\n\")\n",
    "f.close()"
   ]
  },
  {
   "cell_type": "code",
   "execution_count": 5,
   "metadata": {},
   "outputs": [
    {
     "output_type": "execute_result",
     "data": {
      "text/plain": [
       "             symptom_name\n",
       "0                 itching\n",
       "1               skin rash\n",
       "2    nodal skin eruptions\n",
       "3     continuous sneezing\n",
       "4               shivering\n",
       "..                    ...\n",
       "128    inflammatory nails\n",
       "129               blister\n",
       "130  red sore around nose\n",
       "131     yellow crust ooze\n",
       "132             prognosis\n",
       "\n",
       "[133 rows x 1 columns]"
      ],
      "text/html": "<div>\n<style scoped>\n    .dataframe tbody tr th:only-of-type {\n        vertical-align: middle;\n    }\n\n    .dataframe tbody tr th {\n        vertical-align: top;\n    }\n\n    .dataframe thead th {\n        text-align: right;\n    }\n</style>\n<table border=\"1\" class=\"dataframe\">\n  <thead>\n    <tr style=\"text-align: right;\">\n      <th></th>\n      <th>symptom_name</th>\n    </tr>\n  </thead>\n  <tbody>\n    <tr>\n      <th>0</th>\n      <td>itching</td>\n    </tr>\n    <tr>\n      <th>1</th>\n      <td>skin rash</td>\n    </tr>\n    <tr>\n      <th>2</th>\n      <td>nodal skin eruptions</td>\n    </tr>\n    <tr>\n      <th>3</th>\n      <td>continuous sneezing</td>\n    </tr>\n    <tr>\n      <th>4</th>\n      <td>shivering</td>\n    </tr>\n    <tr>\n      <th>...</th>\n      <td>...</td>\n    </tr>\n    <tr>\n      <th>128</th>\n      <td>inflammatory nails</td>\n    </tr>\n    <tr>\n      <th>129</th>\n      <td>blister</td>\n    </tr>\n    <tr>\n      <th>130</th>\n      <td>red sore around nose</td>\n    </tr>\n    <tr>\n      <th>131</th>\n      <td>yellow crust ooze</td>\n    </tr>\n    <tr>\n      <th>132</th>\n      <td>prognosis</td>\n    </tr>\n  </tbody>\n</table>\n<p>133 rows × 1 columns</p>\n</div>"
     },
     "metadata": {},
     "execution_count": 5
    }
   ],
   "source": [
    "df2 = pd.read_csv('Symptoms.csv')\n",
    "df2"
   ]
  },
  {
   "cell_type": "code",
   "execution_count": null,
   "metadata": {},
   "outputs": [],
   "source": []
  }
 ]
}