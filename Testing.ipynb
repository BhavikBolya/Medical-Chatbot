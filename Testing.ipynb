{
 "metadata": {
  "language_info": {
   "codemirror_mode": {
    "name": "ipython",
    "version": 3
   },
   "file_extension": ".py",
   "mimetype": "text/x-python",
   "name": "python",
   "nbconvert_exporter": "python",
   "pygments_lexer": "ipython3",
   "version": "3.8.0"
  },
  "orig_nbformat": 2,
  "kernelspec": {
   "name": "python380jvsc74a57bd0b8272897a8284498a4309cf705c665bcb40ab606922e8429c67ff5c0702cf904",
   "display_name": "Python 3.8.0 32-bit"
  },
  "metadata": {
   "interpreter": {
    "hash": "b8272897a8284498a4309cf705c665bcb40ab606922e8429c67ff5c0702cf904"
   }
  }
 },
 "nbformat": 4,
 "nbformat_minor": 2,
 "cells": [
  {
   "cell_type": "code",
   "execution_count": 7,
   "metadata": {},
   "outputs": [],
   "source": [
    "import pandas as pd"
   ]
  },
  {
   "cell_type": "code",
   "execution_count": 9,
   "metadata": {},
   "outputs": [],
   "source": [
    "# df = pd.read_csv(\"Data/Testing.csv\")\n",
    "# abc = df.columns\n",
    "\n",
    "# filename = \"Symptoms.csv\"\n",
    "# f = open(filename, \"w\")\n",
    "# headers = \"symptom\\n\"\n",
    "# f.write(headers)\n",
    "# for i in abc:\n",
    "#     if '_' in i:\n",
    "#         i = str(i)\n",
    "#         i = i.replace('_', ' ')\n",
    "#     f.write(i + \"\\n\")\n",
    "# f.close()"
   ]
  },
  {
   "cell_type": "code",
   "execution_count": 10,
   "metadata": {},
   "outputs": [
    {
     "output_type": "execute_result",
     "data": {
      "text/plain": [
       "     Unnamed: 0               symptom  \\\n",
       "0             0               itching   \n",
       "1             1             skin rash   \n",
       "2             2  nodal skin eruptions   \n",
       "3             3   continuous sneezing   \n",
       "4             4             shivering   \n",
       "..          ...                   ...   \n",
       "128         128    inflammatory nails   \n",
       "129         129               blister   \n",
       "130         130  red sore around nose   \n",
       "131         131     yellow crust ooze   \n",
       "132         132             prognosis   \n",
       "\n",
       "                                         symtom_vector  \n",
       "0    [0.005095299798995256, -0.41701000928878784, -...  \n",
       "1    [-0.2623099982738495, -0.24128000438213348, -0...  \n",
       "2    [-0.024669334292411804, -0.5369966626167297, -...  \n",
       "3    [-0.3104349970817566, 0.200250506401062, -0.39...  \n",
       "4    [-0.36730000376701355, -0.16412000358104706, -...  \n",
       "..                                                 ...  \n",
       "128  [-0.47173500061035156, 0.021334998309612274, -...  \n",
       "129  [-0.3625999987125397, 0.11849000304937363, -0....  \n",
       "130  [-0.07523999363183975, -0.18626099824905396, -...  \n",
       "131  [-0.03235389664769173, -0.13469332456588745, 0...  \n",
       "132  [-0.3144400119781494, 0.6789399981498718, -0.2...  \n",
       "\n",
       "[133 rows x 3 columns]"
      ],
      "text/html": "<div>\n<style scoped>\n    .dataframe tbody tr th:only-of-type {\n        vertical-align: middle;\n    }\n\n    .dataframe tbody tr th {\n        vertical-align: top;\n    }\n\n    .dataframe thead th {\n        text-align: right;\n    }\n</style>\n<table border=\"1\" class=\"dataframe\">\n  <thead>\n    <tr style=\"text-align: right;\">\n      <th></th>\n      <th>Unnamed: 0</th>\n      <th>symptom</th>\n      <th>symtom_vector</th>\n    </tr>\n  </thead>\n  <tbody>\n    <tr>\n      <th>0</th>\n      <td>0</td>\n      <td>itching</td>\n      <td>[0.005095299798995256, -0.41701000928878784, -...</td>\n    </tr>\n    <tr>\n      <th>1</th>\n      <td>1</td>\n      <td>skin rash</td>\n      <td>[-0.2623099982738495, -0.24128000438213348, -0...</td>\n    </tr>\n    <tr>\n      <th>2</th>\n      <td>2</td>\n      <td>nodal skin eruptions</td>\n      <td>[-0.024669334292411804, -0.5369966626167297, -...</td>\n    </tr>\n    <tr>\n      <th>3</th>\n      <td>3</td>\n      <td>continuous sneezing</td>\n      <td>[-0.3104349970817566, 0.200250506401062, -0.39...</td>\n    </tr>\n    <tr>\n      <th>4</th>\n      <td>4</td>\n      <td>shivering</td>\n      <td>[-0.36730000376701355, -0.16412000358104706, -...</td>\n    </tr>\n    <tr>\n      <th>...</th>\n      <td>...</td>\n      <td>...</td>\n      <td>...</td>\n    </tr>\n    <tr>\n      <th>128</th>\n      <td>128</td>\n      <td>inflammatory nails</td>\n      <td>[-0.47173500061035156, 0.021334998309612274, -...</td>\n    </tr>\n    <tr>\n      <th>129</th>\n      <td>129</td>\n      <td>blister</td>\n      <td>[-0.3625999987125397, 0.11849000304937363, -0....</td>\n    </tr>\n    <tr>\n      <th>130</th>\n      <td>130</td>\n      <td>red sore around nose</td>\n      <td>[-0.07523999363183975, -0.18626099824905396, -...</td>\n    </tr>\n    <tr>\n      <th>131</th>\n      <td>131</td>\n      <td>yellow crust ooze</td>\n      <td>[-0.03235389664769173, -0.13469332456588745, 0...</td>\n    </tr>\n    <tr>\n      <th>132</th>\n      <td>132</td>\n      <td>prognosis</td>\n      <td>[-0.3144400119781494, 0.6789399981498718, -0.2...</td>\n    </tr>\n  </tbody>\n</table>\n<p>133 rows × 3 columns</p>\n</div>"
     },
     "metadata": {},
     "execution_count": 10
    }
   ],
   "source": [
    "df = pd.read_csv(\"Symptoms.csv\")\n",
    "df"
   ]
  },
  {
   "cell_type": "code",
   "execution_count": 13,
   "metadata": {},
   "outputs": [
    {
     "output_type": "execute_result",
     "data": {
      "text/plain": [
       "                                                illness  \\\n",
       "0         Cholecystitis inflammation of the gallbladder   \n",
       "1                Choledocholithiasis stone in bile duct   \n",
       "2                             Cholelithiasis gallstones   \n",
       "3                                          Constipation   \n",
       "4                           Gastric ulcer stomach ulcer   \n",
       "...                                                 ...   \n",
       "1151                                      Skin swelling   \n",
       "1152                                  Eye trauma injury   \n",
       "1153  Endometrial cancer cancer of the lining of the...   \n",
       "1154                                 Hair loss alopecia   \n",
       "1155  Male pattern hair loss hereditary-patterned ba...   \n",
       "\n",
       "                                         illness_vector  \n",
       "0     [1, 1, 0, 0, 0, 0, 1, 0, 0, 0, 0, 0, 0, 0, 0, ...  \n",
       "1     [1, 0, 0, 0, 0, 0, 0, 0, 0, 0, 0, 0, 0, 0, 0, ...  \n",
       "2     [1, 1, 0, 0, 0, 0, 1, 0, 0, 0, 0, 0, 1, 0, 0, ...  \n",
       "3     [1, 1, 0, 0, 0, 0, 0, 0, 0, 0, 0, 0, 0, 0, 0, ...  \n",
       "4     [1, 0, 0, 1, 0, 0, 0, 0, 0, 0, 0, 0, 0, 0, 0, ...  \n",
       "...                                                 ...  \n",
       "1151  [0, 0, 0, 0, 0, 0, 0, 0, 0, 0, 0, 0, 0, 0, 0, ...  \n",
       "1152  [0, 0, 0, 0, 0, 0, 0, 0, 0, 0, 0, 0, 0, 0, 0, ...  \n",
       "1153  [0, 0, 0, 0, 0, 0, 0, 0, 0, 0, 0, 0, 0, 0, 0, ...  \n",
       "1154  [0, 0, 0, 0, 0, 0, 0, 0, 0, 0, 0, 0, 0, 0, 0, ...  \n",
       "1155  [0, 0, 0, 0, 0, 0, 0, 0, 0, 0, 0, 0, 0, 0, 0, ...  \n",
       "\n",
       "[1156 rows x 2 columns]"
      ],
      "text/html": "<div>\n<style scoped>\n    .dataframe tbody tr th:only-of-type {\n        vertical-align: middle;\n    }\n\n    .dataframe tbody tr th {\n        vertical-align: top;\n    }\n\n    .dataframe thead th {\n        text-align: right;\n    }\n</style>\n<table border=\"1\" class=\"dataframe\">\n  <thead>\n    <tr style=\"text-align: right;\">\n      <th></th>\n      <th>illness</th>\n      <th>illness_vector</th>\n    </tr>\n  </thead>\n  <tbody>\n    <tr>\n      <th>0</th>\n      <td>Cholecystitis inflammation of the gallbladder</td>\n      <td>[1, 1, 0, 0, 0, 0, 1, 0, 0, 0, 0, 0, 0, 0, 0, ...</td>\n    </tr>\n    <tr>\n      <th>1</th>\n      <td>Choledocholithiasis stone in bile duct</td>\n      <td>[1, 0, 0, 0, 0, 0, 0, 0, 0, 0, 0, 0, 0, 0, 0, ...</td>\n    </tr>\n    <tr>\n      <th>2</th>\n      <td>Cholelithiasis gallstones</td>\n      <td>[1, 1, 0, 0, 0, 0, 1, 0, 0, 0, 0, 0, 1, 0, 0, ...</td>\n    </tr>\n    <tr>\n      <th>3</th>\n      <td>Constipation</td>\n      <td>[1, 1, 0, 0, 0, 0, 0, 0, 0, 0, 0, 0, 0, 0, 0, ...</td>\n    </tr>\n    <tr>\n      <th>4</th>\n      <td>Gastric ulcer stomach ulcer</td>\n      <td>[1, 0, 0, 1, 0, 0, 0, 0, 0, 0, 0, 0, 0, 0, 0, ...</td>\n    </tr>\n    <tr>\n      <th>...</th>\n      <td>...</td>\n      <td>...</td>\n    </tr>\n    <tr>\n      <th>1151</th>\n      <td>Skin swelling</td>\n      <td>[0, 0, 0, 0, 0, 0, 0, 0, 0, 0, 0, 0, 0, 0, 0, ...</td>\n    </tr>\n    <tr>\n      <th>1152</th>\n      <td>Eye trauma injury</td>\n      <td>[0, 0, 0, 0, 0, 0, 0, 0, 0, 0, 0, 0, 0, 0, 0, ...</td>\n    </tr>\n    <tr>\n      <th>1153</th>\n      <td>Endometrial cancer cancer of the lining of the...</td>\n      <td>[0, 0, 0, 0, 0, 0, 0, 0, 0, 0, 0, 0, 0, 0, 0, ...</td>\n    </tr>\n    <tr>\n      <th>1154</th>\n      <td>Hair loss alopecia</td>\n      <td>[0, 0, 0, 0, 0, 0, 0, 0, 0, 0, 0, 0, 0, 0, 0, ...</td>\n    </tr>\n    <tr>\n      <th>1155</th>\n      <td>Male pattern hair loss hereditary-patterned ba...</td>\n      <td>[0, 0, 0, 0, 0, 0, 0, 0, 0, 0, 0, 0, 0, 0, 0, ...</td>\n    </tr>\n  </tbody>\n</table>\n<p>1156 rows × 2 columns</p>\n</div>"
     },
     "metadata": {},
     "execution_count": 13
    }
   ],
   "source": [
    "df2 = pd.read_pickle(\"diagnosis_data.pkl\")\n",
    "df2"
   ]
  },
  {
   "cell_type": "code",
   "execution_count": null,
   "metadata": {},
   "outputs": [],
   "source": []
  }
 ]
}