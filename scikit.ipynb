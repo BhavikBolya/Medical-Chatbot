{
 "metadata": {
  "language_info": {
   "codemirror_mode": {
    "name": "ipython",
    "version": 3
   },
   "file_extension": ".py",
   "mimetype": "text/x-python",
   "name": "python",
   "nbconvert_exporter": "python",
   "pygments_lexer": "ipython3",
   "version": "3.9.0-final"
  },
  "orig_nbformat": 2,
  "kernelspec": {
   "name": "python3",
   "display_name": "Python 3.9.0 64-bit",
   "metadata": {
    "interpreter": {
     "hash": "11386cce151cb2e29b0d5c11d1da23fa0a22d321fb9c26ca69638e15a4e7a7b3"
    }
   }
  }
 },
 "nbformat": 4,
 "nbformat_minor": 2,
 "cells": [
  {
   "cell_type": "code",
   "execution_count": null,
   "metadata": {},
   "outputs": [],
   "source": []
  },
  {
   "cell_type": "code",
   "execution_count": 6,
   "metadata": {},
   "outputs": [],
   "source": [
    "import sklearn\n"
   ]
  },
  {
   "cell_type": "code",
   "execution_count": 7,
   "metadata": {},
   "outputs": [
    {
     "output_type": "error",
     "ename": "NameError",
     "evalue": "name 'Pipeline' is not defined",
     "traceback": [
      "\u001b[1;31m---------------------------------------------------------------------------\u001b[0m",
      "\u001b[1;31mNameError\u001b[0m                                 Traceback (most recent call last)",
      "\u001b[1;32m<ipython-input-7-d3665edda74e>\u001b[0m in \u001b[0;36m<module>\u001b[1;34m\u001b[0m\n\u001b[0;32m      2\u001b[0m \u001b[0mmodel_name\u001b[0m \u001b[1;33m=\u001b[0m \u001b[1;34m'Naives Bayes Classifier'\u001b[0m\u001b[1;33m\u001b[0m\u001b[1;33m\u001b[0m\u001b[0m\n\u001b[0;32m      3\u001b[0m \u001b[0mnbClassifier\u001b[0m \u001b[1;33m=\u001b[0m \u001b[0mMultinomialNB\u001b[0m\u001b[1;33m(\u001b[0m\u001b[0malpha\u001b[0m\u001b[1;33m=\u001b[0m \u001b[1;36m1.0\u001b[0m\u001b[1;33m,\u001b[0m \u001b[0mclass_prior\u001b[0m\u001b[1;33m=\u001b[0m \u001b[1;32mNone\u001b[0m\u001b[1;33m,\u001b[0m \u001b[0mfit_prior\u001b[0m\u001b[1;33m=\u001b[0m \u001b[1;32mTrue\u001b[0m\u001b[1;33m)\u001b[0m\u001b[1;33m\u001b[0m\u001b[1;33m\u001b[0m\u001b[0m\n\u001b[1;32m----> 4\u001b[1;33m \u001b[0mnb_model\u001b[0m \u001b[1;33m=\u001b[0m \u001b[0mPipeline\u001b[0m\u001b[1;33m(\u001b[0m\u001b[0msteps\u001b[0m\u001b[1;33m=\u001b[0m\u001b[1;33m[\u001b[0m\u001b[1;33m(\u001b[0m\u001b[1;34m'preprocessor'\u001b[0m\u001b[1;33m,\u001b[0m \u001b[0mpreprocessorForFeatures\u001b[0m\u001b[1;33m)\u001b[0m\u001b[1;33m,\u001b[0m\u001b[1;33m(\u001b[0m\u001b[1;34m'classifier'\u001b[0m\u001b[1;33m,\u001b[0m \u001b[0mnbClassifier\u001b[0m\u001b[1;33m)\u001b[0m\u001b[1;33m]\u001b[0m\u001b[1;33m)\u001b[0m\u001b[1;33m\u001b[0m\u001b[1;33m\u001b[0m\u001b[0m\n\u001b[0m\u001b[0;32m      5\u001b[0m \u001b[0mnb_model\u001b[0m\u001b[1;33m.\u001b[0m\u001b[0mfit\u001b[0m\u001b[1;33m(\u001b[0m\u001b[0mX_train\u001b[0m\u001b[1;33m,\u001b[0m \u001b[0mY_train\u001b[0m\u001b[1;33m)\u001b[0m\u001b[1;33m\u001b[0m\u001b[1;33m\u001b[0m\u001b[0m\n\u001b[0;32m      6\u001b[0m \u001b[0my_pred_nb\u001b[0m\u001b[1;33m=\u001b[0m \u001b[0mnb_model\u001b[0m\u001b[1;33m.\u001b[0m\u001b[0mpredict\u001b[0m\u001b[1;33m(\u001b[0m\u001b[0mX_test\u001b[0m\u001b[1;33m)\u001b[0m\u001b[1;33m\u001b[0m\u001b[1;33m\u001b[0m\u001b[0m\n",
      "\u001b[1;31mNameError\u001b[0m: name 'Pipeline' is not defined"
     ]
    }
   ],
   "source": [
    "from sklearn.naive_bayes import MultinomialNB\n",
    "model_name = 'Naives Bayes Classifier'\n",
    "nbClassifier = MultinomialNB(alpha= 1.0, class_prior= None, fit_prior= True)\n",
    "nb_model = Pipeline(steps=[('preprocessor', preprocessorForFeatures),('classifier', nbClassifier)])\n",
    "nb_model.fit(X_train, Y_train)\n",
    "y_pred_nb= nb_model.predict(X_test)\n"
   ]
  },
  {
   "cell_type": "code",
   "execution_count": 10,
   "metadata": {},
   "outputs": [
    {
     "output_type": "stream",
     "name": "stdout",
     "text": [
      "0     1\n1     0\n2     0\n3     1\n4     1\n5     0\n6     0\n7     0\n8     0\n9     0\n10    0\n11    0\n12    0\n13    0\n14    1\n15    0\n16    1\n17    0\n18    0\n19    0\n20    1\n21    0\n22    0\n23    0\n24    0\n25    0\n26    0\n27    0\n28    0\n29    0\n30    0\n31    0\n32    0\n33    0\n34    0\n35    0\n36    0\n37    0\n38    0\n39    0\n40    0\n41    1\nName: itching, dtype: int64\n    skin_rash  nodal_skin_eruptions  continuous_sneezing  shivering  chills  \\\n0           1                     1                    0          0       0   \n1           0                     0                    1          1       1   \n2           0                     0                    0          0       0   \n3           0                     0                    0          0       0   \n4           1                     0                    0          0       0   \n5           0                     0                    0          0       0   \n6           0                     0                    0          0       0   \n7           0                     0                    0          0       0   \n8           0                     0                    0          0       0   \n9           0                     0                    0          0       0   \n10          0                     0                    0          0       0   \n11          0                     0                    0          0       0   \n12          0                     0                    0          0       0   \n13          0                     0                    0          0       0   \n14          0                     0                    0          0       0   \n15          0                     0                    0          0       1   \n16          1                     0                    0          0       0   \n17          1                     0                    0          0       1   \n18          0                     0                    0          0       1   \n19          0                     0                    0          0       0   \n20          0                     0                    0          0       0   \n21          0                     0                    0          0       0   \n22          0                     0                    0          0       0   \n23          0                     0                    0          0       0   \n24          0                     0                    0          0       0   \n25          0                     0                    0          0       1   \n26          0                     0                    1          0       1   \n27          0                     0                    0          0       1   \n28          0                     0                    0          0       0   \n29          0                     0                    0          0       0   \n30          0                     0                    0          0       0   \n31          0                     0                    0          0       0   \n32          0                     0                    0          0       0   \n33          0                     0                    0          0       0   \n34          0                     0                    0          0       0   \n35          0                     0                    0          0       0   \n36          0                     0                    0          0       0   \n37          1                     0                    0          0       0   \n38          0                     0                    0          0       0   \n39          1                     0                    0          0       0   \n40          1                     0                    0          0       0   \n41          1                     0                    0          0       0   \n\n    joint_pain  stomach_pain  acidity  ulcers_on_tongue  muscle_wasting  ...  \\\n0            0             0        0                 0               0  ...   \n1            0             0        0                 0               0  ...   \n2            0             1        1                 1               0  ...   \n3            0             0        0                 0               0  ...   \n4            0             1        0                 0               0  ...   \n5            0             0        0                 0               0  ...   \n6            0             0        0                 0               1  ...   \n7            0             0        0                 0               0  ...   \n8            0             0        0                 0               0  ...   \n9            0             0        0                 0               0  ...   \n10           0             0        0                 0               0  ...   \n11           0             0        1                 0               0  ...   \n12           0             0        0                 0               0  ...   \n13           0             0        0                 0               0  ...   \n14           0             0        0                 0               0  ...   \n15           0             0        0                 0               0  ...   \n16           0             0        0                 0               0  ...   \n17           1             0        0                 0               0  ...   \n18           0             0        0                 0               0  ...   \n19           1             0        0                 0               0  ...   \n20           0             0        0                 0               0  ...   \n21           0             0        0                 0               0  ...   \n22           1             0        0                 0               0  ...   \n23           1             0        0                 0               0  ...   \n24           0             0        0                 0               0  ...   \n25           0             0        0                 0               0  ...   \n26           0             0        0                 0               0  ...   \n27           0             0        0                 0               0  ...   \n28           0             0        0                 0               0  ...   \n29           0             0        0                 0               0  ...   \n30           0             0        0                 0               0  ...   \n31           0             0        0                 0               0  ...   \n32           0             0        0                 0               0  ...   \n33           0             0        0                 0               0  ...   \n34           1             0        0                 0               0  ...   \n35           0             0        0                 0               0  ...   \n36           0             0        0                 0               0  ...   \n37           0             0        0                 0               0  ...   \n38           0             0        0                 0               0  ...   \n39           1             0        0                 0               0  ...   \n40           0             0        0                 0               0  ...   \n41           0             0        0                 0               0  ...   \n\n    pus_filled_pimples  blackheads  scurring  skin_peeling  \\\n0                    0           0         0             0   \n1                    0           0         0             0   \n2                    0           0         0             0   \n3                    0           0         0             0   \n4                    0           0         0             0   \n5                    0           0         0             0   \n6                    0           0         0             0   \n7                    0           0         0             0   \n8                    0           0         0             0   \n9                    0           0         0             0   \n10                   0           0         0             0   \n11                   0           0         0             0   \n12                   0           0         0             0   \n13                   0           0         0             0   \n14                   0           0         0             0   \n15                   0           0         0             0   \n16                   0           0         0             0   \n17                   0           0         0             0   \n18                   0           0         0             0   \n19                   0           0         0             0   \n20                   0           0         0             0   \n21                   0           0         0             0   \n22                   0           0         0             0   \n23                   0           0         0             0   \n24                   0           0         0             0   \n25                   0           0         0             0   \n26                   0           0         0             0   \n27                   0           0         0             0   \n28                   0           0         0             0   \n29                   0           0         0             0   \n30                   0           0         0             0   \n31                   0           0         0             0   \n32                   0           0         0             0   \n33                   0           0         0             0   \n34                   0           0         0             0   \n35                   0           0         0             0   \n36                   0           0         0             0   \n37                   1           1         1             0   \n38                   0           0         0             0   \n39                   0           0         0             1   \n40                   0           0         0             0   \n41                   0           0         0             1   \n\n    silver_like_dusting  small_dents_in_nails  inflammatory_nails  blister  \\\n0                     0                     0                   0        0   \n1                     0                     0                   0        0   \n2                     0                     0                   0        0   \n3                     0                     0                   0        0   \n4                     0                     0                   0        0   \n5                     0                     0                   0        0   \n6                     0                     0                   0        0   \n7                     0                     0                   0        0   \n8                     0                     0                   0        0   \n9                     0                     0                   0        0   \n10                    0                     0                   0        0   \n11                    0                     0                   0        0   \n12                    0                     0                   0        0   \n13                    0                     0                   0        0   \n14                    0                     0                   0        0   \n15                    0                     0                   0        0   \n16                    0                     0                   0        0   \n17                    0                     0                   0        0   \n18                    0                     0                   0        0   \n19                    0                     0                   0        0   \n20                    0                     0                   0        0   \n21                    0                     0                   0        0   \n22                    0                     0                   0        0   \n23                    0                     0                   0        0   \n24                    0                     0                   0        0   \n25                    0                     0                   0        0   \n26                    0                     0                   0        0   \n27                    0                     0                   0        0   \n28                    0                     0                   0        0   \n29                    0                     0                   0        0   \n30                    0                     0                   0        0   \n31                    0                     0                   0        0   \n32                    0                     0                   0        0   \n33                    0                     0                   0        0   \n34                    0                     0                   0        0   \n35                    0                     0                   0        0   \n36                    0                     0                   0        0   \n37                    0                     0                   0        0   \n38                    0                     0                   0        0   \n39                    1                     1                   1        0   \n40                    0                     0                   0        1   \n41                    0                     0                   0        0   \n\n    red_sore_around_nose  yellow_crust_ooze  \n0                      0                  0  \n1                      0                  0  \n2                      0                  0  \n3                      0                  0  \n4                      0                  0  \n5                      0                  0  \n6                      0                  0  \n7                      0                  0  \n8                      0                  0  \n9                      0                  0  \n10                     0                  0  \n11                     0                  0  \n12                     0                  0  \n13                     0                  0  \n14                     0                  0  \n15                     0                  0  \n16                     0                  0  \n17                     0                  0  \n18                     0                  0  \n19                     0                  0  \n20                     0                  0  \n21                     0                  0  \n22                     0                  0  \n23                     0                  0  \n24                     0                  0  \n25                     0                  0  \n26                     0                  0  \n27                     0                  0  \n28                     0                  0  \n29                     0                  0  \n30                     0                  0  \n31                     0                  0  \n32                     0                  0  \n33                     0                  0  \n34                     0                  0  \n35                     0                  0  \n36                     0                  0  \n37                     0                  0  \n38                     0                  0  \n39                     0                  0  \n40                     1                  1  \n41                     1                  0  \n\n[42 rows x 131 columns]\n"
     ]
    },
    {
     "output_type": "execute_result",
     "data": {
      "text/plain": [
       "0.9671"
      ]
     },
     "metadata": {},
     "execution_count": 10
    }
   ],
   "source": [
    "import pandas as pd\n",
    "import sklearn as sk\n",
    "from sklearn.linear_model import LogisticRegression\n",
    "from sklearn import svm\n",
    "from sklearn.ensemble import RandomForestClassifier\n",
    "from sklearn.neural_network import MLPClassifier\n",
    "\n",
    "vowel_train = pd.read_csv('Data/Testing.csv', sep=',',header=0)\n",
    "vowel_test = pd.read_csv('Data/Training.csv', sep=',',header=0)\n",
    "\n",
    "y_tr = vowel_train.iloc[:,0]\n",
    "print(y_tr)\n",
    "X_tr = vowel_train.iloc[:,1:]\n",
    "print(X_tr)\n",
    "\n",
    "y_test = vowel_test.iloc[:,0]\n",
    "X_test = vowel_test.iloc[:,1:]\n",
    "\n",
    "LR = LogisticRegression(random_state=0, solver='lbfgs', multi_class='multinomial').fit(X_tr, y_tr)\n",
    "LR.predict(X_test)\n",
    "round(LR.score(X_test,y_test), 4)\n",
    "\n",
    "SVM = svm.SVC(decision_function_shape=\"ovo\").fit(X_tr, y_tr)\n",
    "SVM.predict(X_test)\n",
    "round(SVM.score(X_test, y_test), 4)\n",
    "\n",
    "RF = RandomForestClassifier(n_estimators=1000, max_depth=10, random_state=0).fit(X_tr, y_tr)\n",
    "RF.predict(X_test)\n",
    "round(RF.score(X_test, y_test), 4)\n",
    "\n",
    "NN = MLPClassifier(solver='lbfgs', alpha=1e-5, hidden_layer_sizes=(150, 10), random_state=1).fit(X_tr, y_tr)\n",
    "NN.predict(X_test)\n",
    "round(NN.score(X_test, y_test), 4)"
   ]
  },
  {
   "cell_type": "code",
   "execution_count": null,
   "metadata": {},
   "outputs": [],
   "source": []
  }
 ]
}